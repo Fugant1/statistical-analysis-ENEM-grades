{
  "cells": [
    {
      "cell_type": "markdown",
      "metadata": {
        "id": "view-in-github",
        "colab_type": "text"
      },
      "source": [
        "<a href=\"https://colab.research.google.com/github/Fugant1/statistical-analysis-ENEM-grades/blob/main/An%C3%A1lise_Estat%C3%ADstica_Notas_Enem_2018.ipynb\" target=\"_parent\"><img src=\"https://colab.research.google.com/assets/colab-badge.svg\" alt=\"Open In Colab\"/></a>"
      ]
    },
    {
      "cell_type": "markdown",
      "source": [
        "# Análise de Inferência Estatística: Fatores Socioeconômicos e Desempenho no ENEM 2018\n",
        "\n",
        "### 1. Introdução e Contextualização\n",
        "\n",
        "O Exame Nacional do Ensino Médio (ENEM) é um dos vestibulares mais importantes do Brasil, sendo a principal porta de entrada para o ensino superior. O desempenho dos estudantes nesta avaliação é influenciado por uma complexa rede de fatores que vão além da dedicação e do conhecimento técnico. Variáveis socioeconômicas e demográficas desempenham um papel crucial na determinação das oportunidades e, consequentemente, dos resultados.\n",
        "\n",
        "**Este projeto se propõe a analisar os microdados do ENEM de 2018** para investigar a relação entre o desempenho dos candidatos e três fatores principais: **renda familiar, raça/cor autodeclarada e sexo**.\n",
        "\n",
        "### 2. Objetivo do Estudo\n",
        "\n",
        "O objetivo central deste trabalho é aplicar técnicas de inferência estatística para verificar se as diferenças de notas observadas entre os grupos mencionados são estatisticamente significativas. Para isso, serão realizados testes de hipótese não paramétricos, adequados à distribuição dos dados, a fim de responder às seguintes perguntas:\n",
        "\n",
        "* A renda familiar tem impacto significativo na nota da redação?\n",
        "* Existe uma diferença significativa na nota média geral entre candidatos de diferentes raças/cores?\n",
        "* O desempenho médio geral no exame difere de forma significativa entre os sexos?"
      ],
      "metadata": {
        "id": "VK3YaR0elyzR"
      }
    },
    {
      "cell_type": "markdown",
      "source": [
        "#Imports das bibliotecas e do banco de dados"
      ],
      "metadata": {
        "id": "ejmU0Jte0yvQ"
      }
    },
    {
      "cell_type": "code",
      "source": [
        "# Importa as bibliotecas necessárias para a configuração\n",
        "import os\n",
        "import json\n",
        "import pandas as pd\n",
        "import numpy as np\n",
        "import matplotlib.pyplot as plt\n",
        "from scipy import stats\n",
        "from scipy.stats import mannwhitneyu\n",
        "from scipy.stats import kruskal\n",
        "import seaborn as sns\n",
        "import zipfile"
      ],
      "metadata": {
        "id": "oXHsoQmJ9rfT"
      },
      "execution_count": null,
      "outputs": []
    },
    {
      "cell_type": "code",
      "source": [
        "# Instala a biblioteca do Kaggle de forma silenciosa\n",
        "!pip install kaggle -q\n",
        "\n",
        "# Credenciais privadas do grupo; por favor cuidado aqui!\n",
        "kaggle_credentials = {\n",
        "    \"username\": \"\",\n",
        "    \"key\": \"\"\n",
        "}\n",
        "\n",
        "# Cria o diretório .kaggle no local correto\n",
        "kaggle_dir = os.path.expanduser(\"~/.kaggle\")\n",
        "os.makedirs(kaggle_dir, exist_ok=True)\n",
        "\n",
        "# Grava as credenciais no arquivo kaggle.json\n",
        "with open(os.path.join(kaggle_dir, \"kaggle.json\"), \"w\") as f:\n",
        "    json.dump(kaggle_credentials, f)\n",
        "\n",
        "# Define as permissões de segurança para o arquivo\n",
        "!chmod 600 ~/.kaggle/kaggle.json\n",
        "\n",
        "print(\"✅ Credenciais do Kaggle configuradas com sucesso!\")"
      ],
      "metadata": {
        "colab": {
          "base_uri": "https://localhost:8080/"
        },
        "id": "HpNZeSmJBA6H",
        "outputId": "38408854-c02f-41c3-ef67-ec134bf63bdc"
      },
      "execution_count": null,
      "outputs": [
        {
          "output_type": "stream",
          "name": "stdout",
          "text": [
            "✅ Credenciais do Kaggle configuradas com sucesso!\n"
          ]
        }
      ]
    },
    {
      "cell_type": "code",
      "source": [
        "!kaggle datasets download -d emanueliwanow/enem-2018\n",
        "\n",
        "# Define os nomes do arquivo e da pasta para descompactar\n",
        "zip_filename = 'enem-2018.zip'\n",
        "extract_folder = 'dados_enem_2018'\n",
        "\n",
        "# Descompacta o arquivo .zip\n",
        "with zipfile.ZipFile(zip_filename, 'r') as zip_ref:\n",
        "    zip_ref.extractall(extract_folder)\n",
        "print(f\"Arquivos extraídos para a pasta: {extract_folder}\")\n",
        "\n",
        "# Carrega o arquivo CSV usando Pandas\n",
        "csv_path = os.path.join(extract_folder, 'MICRODADOS_ENEM_2018.csv')"
      ],
      "metadata": {
        "id": "w9MsdW_dnvWU",
        "outputId": "6fb009f2-bb92-4eaf-e4b5-8bf8fd100876",
        "colab": {
          "base_uri": "https://localhost:8080/"
        }
      },
      "execution_count": null,
      "outputs": [
        {
          "output_type": "stream",
          "name": "stdout",
          "text": [
            "Dataset URL: https://www.kaggle.com/datasets/emanueliwanow/enem-2018\n",
            "License(s): CC0-1.0\n",
            "enem-2018.zip: Skipping, found more recently modified local copy (use --force to force download)\n",
            "Arquivos extraídos para a pasta: dados_enem_2018\n"
          ]
        }
      ]
    },
    {
      "cell_type": "code",
      "source": [
        "try:\n",
        "    print(\"\\nCarregando o dataset... (isso pode levar alguns instantes)\")\n",
        "    df = pd.read_csv(\n",
        "        csv_path,\n",
        "        sep=';',\n",
        "        encoding='latin-1'\n",
        "    )\n",
        "\n",
        "    print(\"\\n✅ Dataset carregado com sucesso!\")\n",
        "\n",
        "    # Exibe as primeiras 5 linhas para confirmar\n",
        "    print(\"\\nDimensões:\", df.shape)\n",
        "    print(\"Amostra dos dados:\")\n",
        "    display(df.head())\n",
        "\n",
        "except FileNotFoundError:\n",
        "    print(f\"❌ ERRO: Arquivo não encontrado em '{csv_path}'. Verifique o nome do arquivo.\")\n",
        "except Exception as e:\n",
        "    print(f\"❌ Ocorreu um erro inesperado: {e}\")"
      ],
      "metadata": {
        "colab": {
          "base_uri": "https://localhost:8080/",
          "height": 357
        },
        "id": "Kb_EHHLxCOf5",
        "outputId": "01e7f25c-5009-4b7d-e5a0-e9f169a4727a"
      },
      "execution_count": null,
      "outputs": [
        {
          "output_type": "stream",
          "name": "stdout",
          "text": [
            "\n",
            "Carregando o dataset... (isso pode levar alguns instantes)\n",
            "\n",
            "✅ Dataset carregado com sucesso!\n",
            "\n",
            "Dimensões: (5513733, 78)\n",
            "Amostra dos dados:\n"
          ]
        },
        {
          "output_type": "display_data",
          "data": {
            "text/plain": [
              "   NU_INSCRICAO  NU_ANO  TP_FAIXA_ETARIA TP_SEXO  TP_ESTADO_CIVIL  \\\n",
              "0  180007186625    2018                2       F              0.0   \n",
              "1  180007186627    2018                3       F              0.0   \n",
              "2  180007186628    2018                3       M              0.0   \n",
              "3  180007186629    2018                2       F              0.0   \n",
              "4  180007186631    2018               11       F              0.0   \n",
              "\n",
              "   TP_COR_RACA  TP_NACIONALIDADE  TP_ST_CONCLUSAO  TP_ANO_CONCLUIU  TP_ESCOLA  \\\n",
              "0            4                 1                2                0          4   \n",
              "1            4                 1                1                1          1   \n",
              "2            0                 1                2                0          2   \n",
              "3            3                 1                2                0          4   \n",
              "4            5                 1                1                6          1   \n",
              "\n",
              "   ...  Q018  Q019  Q020 Q021  Q022 Q023  Q024  Q025  Q026  Q027  \n",
              "0  ...     B     C     B    B     D    B     C     B     B     D  \n",
              "1  ...     A     B     A    A     B    A     A     A     A     A  \n",
              "2  ...     A     B     B    A     D    A     A     A     B     A  \n",
              "3  ...     A     C     A    B     D    B     A     B     B     B  \n",
              "4  ...     A     B     B    A     C    A     B     A     A     A  \n",
              "\n",
              "[5 rows x 78 columns]"
            ],
            "text/html": [
              "\n",
              "  <div id=\"df-7478437c-f0f1-44b3-b340-781fcd4f9374\" class=\"colab-df-container\">\n",
              "    <div>\n",
              "<style scoped>\n",
              "    .dataframe tbody tr th:only-of-type {\n",
              "        vertical-align: middle;\n",
              "    }\n",
              "\n",
              "    .dataframe tbody tr th {\n",
              "        vertical-align: top;\n",
              "    }\n",
              "\n",
              "    .dataframe thead th {\n",
              "        text-align: right;\n",
              "    }\n",
              "</style>\n",
              "<table border=\"1\" class=\"dataframe\">\n",
              "  <thead>\n",
              "    <tr style=\"text-align: right;\">\n",
              "      <th></th>\n",
              "      <th>NU_INSCRICAO</th>\n",
              "      <th>NU_ANO</th>\n",
              "      <th>TP_FAIXA_ETARIA</th>\n",
              "      <th>TP_SEXO</th>\n",
              "      <th>TP_ESTADO_CIVIL</th>\n",
              "      <th>TP_COR_RACA</th>\n",
              "      <th>TP_NACIONALIDADE</th>\n",
              "      <th>TP_ST_CONCLUSAO</th>\n",
              "      <th>TP_ANO_CONCLUIU</th>\n",
              "      <th>TP_ESCOLA</th>\n",
              "      <th>...</th>\n",
              "      <th>Q018</th>\n",
              "      <th>Q019</th>\n",
              "      <th>Q020</th>\n",
              "      <th>Q021</th>\n",
              "      <th>Q022</th>\n",
              "      <th>Q023</th>\n",
              "      <th>Q024</th>\n",
              "      <th>Q025</th>\n",
              "      <th>Q026</th>\n",
              "      <th>Q027</th>\n",
              "    </tr>\n",
              "  </thead>\n",
              "  <tbody>\n",
              "    <tr>\n",
              "      <th>0</th>\n",
              "      <td>180007186625</td>\n",
              "      <td>2018</td>\n",
              "      <td>2</td>\n",
              "      <td>F</td>\n",
              "      <td>0.0</td>\n",
              "      <td>4</td>\n",
              "      <td>1</td>\n",
              "      <td>2</td>\n",
              "      <td>0</td>\n",
              "      <td>4</td>\n",
              "      <td>...</td>\n",
              "      <td>B</td>\n",
              "      <td>C</td>\n",
              "      <td>B</td>\n",
              "      <td>B</td>\n",
              "      <td>D</td>\n",
              "      <td>B</td>\n",
              "      <td>C</td>\n",
              "      <td>B</td>\n",
              "      <td>B</td>\n",
              "      <td>D</td>\n",
              "    </tr>\n",
              "    <tr>\n",
              "      <th>1</th>\n",
              "      <td>180007186627</td>\n",
              "      <td>2018</td>\n",
              "      <td>3</td>\n",
              "      <td>F</td>\n",
              "      <td>0.0</td>\n",
              "      <td>4</td>\n",
              "      <td>1</td>\n",
              "      <td>1</td>\n",
              "      <td>1</td>\n",
              "      <td>1</td>\n",
              "      <td>...</td>\n",
              "      <td>A</td>\n",
              "      <td>B</td>\n",
              "      <td>A</td>\n",
              "      <td>A</td>\n",
              "      <td>B</td>\n",
              "      <td>A</td>\n",
              "      <td>A</td>\n",
              "      <td>A</td>\n",
              "      <td>A</td>\n",
              "      <td>A</td>\n",
              "    </tr>\n",
              "    <tr>\n",
              "      <th>2</th>\n",
              "      <td>180007186628</td>\n",
              "      <td>2018</td>\n",
              "      <td>3</td>\n",
              "      <td>M</td>\n",
              "      <td>0.0</td>\n",
              "      <td>0</td>\n",
              "      <td>1</td>\n",
              "      <td>2</td>\n",
              "      <td>0</td>\n",
              "      <td>2</td>\n",
              "      <td>...</td>\n",
              "      <td>A</td>\n",
              "      <td>B</td>\n",
              "      <td>B</td>\n",
              "      <td>A</td>\n",
              "      <td>D</td>\n",
              "      <td>A</td>\n",
              "      <td>A</td>\n",
              "      <td>A</td>\n",
              "      <td>B</td>\n",
              "      <td>A</td>\n",
              "    </tr>\n",
              "    <tr>\n",
              "      <th>3</th>\n",
              "      <td>180007186629</td>\n",
              "      <td>2018</td>\n",
              "      <td>2</td>\n",
              "      <td>F</td>\n",
              "      <td>0.0</td>\n",
              "      <td>3</td>\n",
              "      <td>1</td>\n",
              "      <td>2</td>\n",
              "      <td>0</td>\n",
              "      <td>4</td>\n",
              "      <td>...</td>\n",
              "      <td>A</td>\n",
              "      <td>C</td>\n",
              "      <td>A</td>\n",
              "      <td>B</td>\n",
              "      <td>D</td>\n",
              "      <td>B</td>\n",
              "      <td>A</td>\n",
              "      <td>B</td>\n",
              "      <td>B</td>\n",
              "      <td>B</td>\n",
              "    </tr>\n",
              "    <tr>\n",
              "      <th>4</th>\n",
              "      <td>180007186631</td>\n",
              "      <td>2018</td>\n",
              "      <td>11</td>\n",
              "      <td>F</td>\n",
              "      <td>0.0</td>\n",
              "      <td>5</td>\n",
              "      <td>1</td>\n",
              "      <td>1</td>\n",
              "      <td>6</td>\n",
              "      <td>1</td>\n",
              "      <td>...</td>\n",
              "      <td>A</td>\n",
              "      <td>B</td>\n",
              "      <td>B</td>\n",
              "      <td>A</td>\n",
              "      <td>C</td>\n",
              "      <td>A</td>\n",
              "      <td>B</td>\n",
              "      <td>A</td>\n",
              "      <td>A</td>\n",
              "      <td>A</td>\n",
              "    </tr>\n",
              "  </tbody>\n",
              "</table>\n",
              "<p>5 rows × 78 columns</p>\n",
              "</div>\n",
              "    <div class=\"colab-df-buttons\">\n",
              "\n",
              "  <div class=\"colab-df-container\">\n",
              "    <button class=\"colab-df-convert\" onclick=\"convertToInteractive('df-7478437c-f0f1-44b3-b340-781fcd4f9374')\"\n",
              "            title=\"Convert this dataframe to an interactive table.\"\n",
              "            style=\"display:none;\">\n",
              "\n",
              "  <svg xmlns=\"http://www.w3.org/2000/svg\" height=\"24px\" viewBox=\"0 -960 960 960\">\n",
              "    <path d=\"M120-120v-720h720v720H120Zm60-500h600v-160H180v160Zm220 220h160v-160H400v160Zm0 220h160v-160H400v160ZM180-400h160v-160H180v160Zm440 0h160v-160H620v160ZM180-180h160v-160H180v160Zm440 0h160v-160H620v160Z\"/>\n",
              "  </svg>\n",
              "    </button>\n",
              "\n",
              "  <style>\n",
              "    .colab-df-container {\n",
              "      display:flex;\n",
              "      gap: 12px;\n",
              "    }\n",
              "\n",
              "    .colab-df-convert {\n",
              "      background-color: #E8F0FE;\n",
              "      border: none;\n",
              "      border-radius: 50%;\n",
              "      cursor: pointer;\n",
              "      display: none;\n",
              "      fill: #1967D2;\n",
              "      height: 32px;\n",
              "      padding: 0 0 0 0;\n",
              "      width: 32px;\n",
              "    }\n",
              "\n",
              "    .colab-df-convert:hover {\n",
              "      background-color: #E2EBFA;\n",
              "      box-shadow: 0px 1px 2px rgba(60, 64, 67, 0.3), 0px 1px 3px 1px rgba(60, 64, 67, 0.15);\n",
              "      fill: #174EA6;\n",
              "    }\n",
              "\n",
              "    .colab-df-buttons div {\n",
              "      margin-bottom: 4px;\n",
              "    }\n",
              "\n",
              "    [theme=dark] .colab-df-convert {\n",
              "      background-color: #3B4455;\n",
              "      fill: #D2E3FC;\n",
              "    }\n",
              "\n",
              "    [theme=dark] .colab-df-convert:hover {\n",
              "      background-color: #434B5C;\n",
              "      box-shadow: 0px 1px 3px 1px rgba(0, 0, 0, 0.15);\n",
              "      filter: drop-shadow(0px 1px 2px rgba(0, 0, 0, 0.3));\n",
              "      fill: #FFFFFF;\n",
              "    }\n",
              "  </style>\n",
              "\n",
              "    <script>\n",
              "      const buttonEl =\n",
              "        document.querySelector('#df-7478437c-f0f1-44b3-b340-781fcd4f9374 button.colab-df-convert');\n",
              "      buttonEl.style.display =\n",
              "        google.colab.kernel.accessAllowed ? 'block' : 'none';\n",
              "\n",
              "      async function convertToInteractive(key) {\n",
              "        const element = document.querySelector('#df-7478437c-f0f1-44b3-b340-781fcd4f9374');\n",
              "        const dataTable =\n",
              "          await google.colab.kernel.invokeFunction('convertToInteractive',\n",
              "                                                    [key], {});\n",
              "        if (!dataTable) return;\n",
              "\n",
              "        const docLinkHtml = 'Like what you see? Visit the ' +\n",
              "          '<a target=\"_blank\" href=https://colab.research.google.com/notebooks/data_table.ipynb>data table notebook</a>'\n",
              "          + ' to learn more about interactive tables.';\n",
              "        element.innerHTML = '';\n",
              "        dataTable['output_type'] = 'display_data';\n",
              "        await google.colab.output.renderOutput(dataTable, element);\n",
              "        const docLink = document.createElement('div');\n",
              "        docLink.innerHTML = docLinkHtml;\n",
              "        element.appendChild(docLink);\n",
              "      }\n",
              "    </script>\n",
              "  </div>\n",
              "\n",
              "\n",
              "    <div id=\"df-3142a138-154a-4e05-844c-615ff5f06dff\">\n",
              "      <button class=\"colab-df-quickchart\" onclick=\"quickchart('df-3142a138-154a-4e05-844c-615ff5f06dff')\"\n",
              "                title=\"Suggest charts\"\n",
              "                style=\"display:none;\">\n",
              "\n",
              "<svg xmlns=\"http://www.w3.org/2000/svg\" height=\"24px\"viewBox=\"0 0 24 24\"\n",
              "     width=\"24px\">\n",
              "    <g>\n",
              "        <path d=\"M19 3H5c-1.1 0-2 .9-2 2v14c0 1.1.9 2 2 2h14c1.1 0 2-.9 2-2V5c0-1.1-.9-2-2-2zM9 17H7v-7h2v7zm4 0h-2V7h2v10zm4 0h-2v-4h2v4z\"/>\n",
              "    </g>\n",
              "</svg>\n",
              "      </button>\n",
              "\n",
              "<style>\n",
              "  .colab-df-quickchart {\n",
              "      --bg-color: #E8F0FE;\n",
              "      --fill-color: #1967D2;\n",
              "      --hover-bg-color: #E2EBFA;\n",
              "      --hover-fill-color: #174EA6;\n",
              "      --disabled-fill-color: #AAA;\n",
              "      --disabled-bg-color: #DDD;\n",
              "  }\n",
              "\n",
              "  [theme=dark] .colab-df-quickchart {\n",
              "      --bg-color: #3B4455;\n",
              "      --fill-color: #D2E3FC;\n",
              "      --hover-bg-color: #434B5C;\n",
              "      --hover-fill-color: #FFFFFF;\n",
              "      --disabled-bg-color: #3B4455;\n",
              "      --disabled-fill-color: #666;\n",
              "  }\n",
              "\n",
              "  .colab-df-quickchart {\n",
              "    background-color: var(--bg-color);\n",
              "    border: none;\n",
              "    border-radius: 50%;\n",
              "    cursor: pointer;\n",
              "    display: none;\n",
              "    fill: var(--fill-color);\n",
              "    height: 32px;\n",
              "    padding: 0;\n",
              "    width: 32px;\n",
              "  }\n",
              "\n",
              "  .colab-df-quickchart:hover {\n",
              "    background-color: var(--hover-bg-color);\n",
              "    box-shadow: 0 1px 2px rgba(60, 64, 67, 0.3), 0 1px 3px 1px rgba(60, 64, 67, 0.15);\n",
              "    fill: var(--button-hover-fill-color);\n",
              "  }\n",
              "\n",
              "  .colab-df-quickchart-complete:disabled,\n",
              "  .colab-df-quickchart-complete:disabled:hover {\n",
              "    background-color: var(--disabled-bg-color);\n",
              "    fill: var(--disabled-fill-color);\n",
              "    box-shadow: none;\n",
              "  }\n",
              "\n",
              "  .colab-df-spinner {\n",
              "    border: 2px solid var(--fill-color);\n",
              "    border-color: transparent;\n",
              "    border-bottom-color: var(--fill-color);\n",
              "    animation:\n",
              "      spin 1s steps(1) infinite;\n",
              "  }\n",
              "\n",
              "  @keyframes spin {\n",
              "    0% {\n",
              "      border-color: transparent;\n",
              "      border-bottom-color: var(--fill-color);\n",
              "      border-left-color: var(--fill-color);\n",
              "    }\n",
              "    20% {\n",
              "      border-color: transparent;\n",
              "      border-left-color: var(--fill-color);\n",
              "      border-top-color: var(--fill-color);\n",
              "    }\n",
              "    30% {\n",
              "      border-color: transparent;\n",
              "      border-left-color: var(--fill-color);\n",
              "      border-top-color: var(--fill-color);\n",
              "      border-right-color: var(--fill-color);\n",
              "    }\n",
              "    40% {\n",
              "      border-color: transparent;\n",
              "      border-right-color: var(--fill-color);\n",
              "      border-top-color: var(--fill-color);\n",
              "    }\n",
              "    60% {\n",
              "      border-color: transparent;\n",
              "      border-right-color: var(--fill-color);\n",
              "    }\n",
              "    80% {\n",
              "      border-color: transparent;\n",
              "      border-right-color: var(--fill-color);\n",
              "      border-bottom-color: var(--fill-color);\n",
              "    }\n",
              "    90% {\n",
              "      border-color: transparent;\n",
              "      border-bottom-color: var(--fill-color);\n",
              "    }\n",
              "  }\n",
              "</style>\n",
              "\n",
              "      <script>\n",
              "        async function quickchart(key) {\n",
              "          const quickchartButtonEl =\n",
              "            document.querySelector('#' + key + ' button');\n",
              "          quickchartButtonEl.disabled = true;  // To prevent multiple clicks.\n",
              "          quickchartButtonEl.classList.add('colab-df-spinner');\n",
              "          try {\n",
              "            const charts = await google.colab.kernel.invokeFunction(\n",
              "                'suggestCharts', [key], {});\n",
              "          } catch (error) {\n",
              "            console.error('Error during call to suggestCharts:', error);\n",
              "          }\n",
              "          quickchartButtonEl.classList.remove('colab-df-spinner');\n",
              "          quickchartButtonEl.classList.add('colab-df-quickchart-complete');\n",
              "        }\n",
              "        (() => {\n",
              "          let quickchartButtonEl =\n",
              "            document.querySelector('#df-3142a138-154a-4e05-844c-615ff5f06dff button');\n",
              "          quickchartButtonEl.style.display =\n",
              "            google.colab.kernel.accessAllowed ? 'block' : 'none';\n",
              "        })();\n",
              "      </script>\n",
              "    </div>\n",
              "\n",
              "    </div>\n",
              "  </div>\n"
            ],
            "application/vnd.google.colaboratory.intrinsic+json": {
              "type": "dataframe"
            }
          },
          "metadata": {}
        }
      ]
    },
    {
      "cell_type": "markdown",
      "source": [
        "# Análise Exploratória de Dados"
      ],
      "metadata": {
        "id": "9JzA_Hec1DG_"
      }
    },
    {
      "cell_type": "markdown",
      "source": [
        "#### Manipulação e Categorização da Renda\n",
        "\n",
        "Para viabilizar a análise, a variável categórica Q006, que representa a renda familiar, foi convertida em uma variável numérica (RENDA_FAMILIAR_PISO). Essa conversão foi baseada no **dicionário de dados oficial do ENEM 2018**, que associa cada letra a uma faixa de renda. Para a análise numérica, foi adotado o valor do **piso salarial** de cada faixa.\n",
        "\n",
        "Posteriormente, para a comparação de grupos, foi criada a coluna qualitativa CLASSE_RENDA. Utilizando a mediana da renda de todos os participantes não treineiros (R$ 1.431,00) como ponto de corte, os candidatos foram divididos em dois grupos: **\"Baixa Renda\"** e **\"Alta Renda\"**. Essa abordagem permite uma comparação direta do impacto da condição socioeconômica no desempenho."
      ],
      "metadata": {
        "id": "z4FsEaDwl4qV"
      }
    },
    {
      "cell_type": "markdown",
      "source": [
        "## Limpeza dos dados e criação de algumas colunas para futuras análises\n",
        "Removemos algumas colunas que não seriam relevantes ou que pussuiam muitos dados faltantes, dificultando a análise."
      ],
      "metadata": {
        "id": "7aix59LtaQIP"
      }
    },
    {
      "cell_type": "code",
      "source": [
        "print(df.columns) #visualização das colunas para remover dados não relevantes"
      ],
      "metadata": {
        "colab": {
          "base_uri": "https://localhost:8080/"
        },
        "id": "kRiUjmI3HFPR",
        "outputId": "fb2b9b8b-2649-4850-e33c-90bbd0b90563"
      },
      "execution_count": null,
      "outputs": [
        {
          "output_type": "stream",
          "name": "stdout",
          "text": [
            "Index(['NU_INSCRICAO', 'NU_ANO', 'TP_FAIXA_ETARIA', 'TP_SEXO',\n",
            "       'TP_ESTADO_CIVIL', 'TP_COR_RACA', 'TP_NACIONALIDADE', 'TP_ST_CONCLUSAO',\n",
            "       'TP_ANO_CONCLUIU', 'TP_ESCOLA', 'TP_ENSINO', 'IN_TREINEIRO',\n",
            "       'CO_MUNICIPIO_ESC', 'NO_MUNICIPIO_ESC', 'CO_UF_ESC', 'SG_UF_ESC',\n",
            "       'TP_DEPENDENCIA_ADM_ESC', 'TP_LOCALIZACAO_ESC', 'TP_SIT_FUNC_ESC',\n",
            "       'CO_MUNICIPIO_PROVA', 'NO_MUNICIPIO_PROVA', 'CO_UF_PROVA',\n",
            "       'SG_UF_PROVA', 'TP_PRESENCA_CN', 'TP_PRESENCA_CH', 'TP_PRESENCA_LC',\n",
            "       'TP_PRESENCA_MT', 'CO_PROVA_CN', 'CO_PROVA_CH', 'CO_PROVA_LC',\n",
            "       'CO_PROVA_MT', 'NU_NOTA_CN', 'NU_NOTA_CH', 'NU_NOTA_LC', 'NU_NOTA_MT',\n",
            "       'TX_RESPOSTAS_CN', 'TX_RESPOSTAS_CH', 'TX_RESPOSTAS_LC',\n",
            "       'TX_RESPOSTAS_MT', 'TP_LINGUA', 'TX_GABARITO_CN', 'TX_GABARITO_CH',\n",
            "       'TX_GABARITO_LC', 'TX_GABARITO_MT', 'TP_STATUS_REDACAO',\n",
            "       'NU_NOTA_COMP1', 'NU_NOTA_COMP2', 'NU_NOTA_COMP3', 'NU_NOTA_COMP4',\n",
            "       'NU_NOTA_COMP5', 'NU_NOTA_REDACAO', 'Q001', 'Q002', 'Q003', 'Q004',\n",
            "       'Q005', 'Q006', 'Q007', 'Q008', 'Q009', 'Q010', 'Q011', 'Q012', 'Q013',\n",
            "       'Q014', 'Q015', 'Q016', 'Q017', 'Q018', 'Q019', 'Q020', 'Q021', 'Q022',\n",
            "       'Q023', 'Q024', 'Q025', 'Q026', 'Q027'],\n",
            "      dtype='object')\n"
          ]
        }
      ]
    },
    {
      "cell_type": "code",
      "source": [
        "colunas_questionario = [f'Q{i:03d}' for i in range(1, 28) if i != 6] #remoção das colunas de questionario social (não excluimos apenas a 6 que é sobre renda)\n",
        "\n",
        "colunas_remover = [\n",
        "    'NU_INSCRICAO', 'NU_ANO', 'TP_ESTADO_CIVIL','TP_NACIONALIDADE',\n",
        "    'TP_ST_CONCLUSAO', 'TP_ANO_CONCLUIU', 'TP_ENSINO',\n",
        "    'CO_MUNICIPIO_ESC', 'NO_MUNICIPIO_ESC', 'CO_UF_ESC',\n",
        "    'TP_LOCALIZACAO_ESC', 'TP_SIT_FUNC_ESC', 'CO_MUNICIPIO_PROVA',\n",
        "    'NO_MUNICIPIO_PROVA', 'CO_UF_PROVA', 'SG_UF_PROVA',\n",
        "    'TP_PRESENCA_CN', 'TP_PRESENCA_CH', 'TP_PRESENCA_LC', 'TP_PRESENCA_MT',\n",
        "    'CO_PROVA_CN', 'CO_PROVA_CH', 'CO_PROVA_LC', 'CO_PROVA_MT',\n",
        "    'TP_LINGUA', 'TP_STATUS_REDACAO', 'NU_NOTA_COMP1', 'NU_NOTA_COMP2',\n",
        "    'NU_NOTA_COMP3', 'NU_NOTA_COMP4', 'NU_NOTA_COMP5'\n",
        "]\n",
        "\n",
        "colunas_remover2 = ['SG_UF_ESC', 'TP_DEPENDENCIA_ADM_ESC',\n",
        "'TX_RESPOSTAS_CN', 'TX_RESPOSTAS_CH', 'TX_RESPOSTAS_LC', 'TX_RESPOSTAS_MT',\n",
        "'TX_GABARITO_CN', 'TX_GABARITO_CH', 'TX_GABARITO_LC', 'TX_GABARITO_MT']\n",
        "\n",
        "#dados removidos por pouca relvância ou por muitos linhas com dados faltantes\n",
        "\n",
        "print(f\"Total de colunas a serem removidas: {len(colunas_remover+colunas_questionario+colunas_remover2)}\")\n",
        "df.drop(columns=colunas_remover, axis=1, inplace=True)\n",
        "df.drop(columns=colunas_questionario, axis=1, inplace=True)\n",
        "df.drop(columns=colunas_remover2, axis=1, inplace=True)\n",
        "\n",
        "print(\"\\nColunas removidas com sucesso!\")\n",
        "# Colunas removidas pois eram irrelevantes para a análise que vamos fazer;"
      ],
      "metadata": {
        "colab": {
          "base_uri": "https://localhost:8080/"
        },
        "id": "BY1hX7QLnemk",
        "outputId": "691d8ac9-02cf-454c-daf0-57785652600e"
      },
      "execution_count": null,
      "outputs": [
        {
          "output_type": "stream",
          "name": "stdout",
          "text": [
            "Total de colunas a serem removidas: 67\n",
            "\n",
            "Colunas removidas com sucesso!\n"
          ]
        }
      ]
    },
    {
      "cell_type": "code",
      "source": [
        "print(f\"O dataset agora tem {df.shape[1]} colunas.\")\n",
        "print(\"\\nColunas restantes no DataFrame:\")\n",
        "print(df.columns)"
      ],
      "metadata": {
        "colab": {
          "base_uri": "https://localhost:8080/"
        },
        "id": "oKYjnEtDHZzl",
        "outputId": "ed18d9bf-7e93-42dd-ddf9-81e10990e3c1"
      },
      "execution_count": null,
      "outputs": [
        {
          "output_type": "stream",
          "name": "stdout",
          "text": [
            "O dataset agora tem 11 colunas.\n",
            "\n",
            "Colunas restantes no DataFrame:\n",
            "Index(['TP_FAIXA_ETARIA', 'TP_SEXO', 'TP_COR_RACA', 'TP_ESCOLA',\n",
            "       'IN_TREINEIRO', 'NU_NOTA_CN', 'NU_NOTA_CH', 'NU_NOTA_LC', 'NU_NOTA_MT',\n",
            "       'NU_NOTA_REDACAO', 'Q006'],\n",
            "      dtype='object')\n"
          ]
        }
      ]
    },
    {
      "cell_type": "code",
      "source": [
        "print(df.shape) #visualização do tamanho do dataset"
      ],
      "metadata": {
        "colab": {
          "base_uri": "https://localhost:8080/"
        },
        "id": "TBJ3ud5KSRrW",
        "outputId": "8a82673f-86c0-4f60-b4aa-e896fb137005"
      },
      "execution_count": null,
      "outputs": [
        {
          "output_type": "stream",
          "name": "stdout",
          "text": [
            "(5513733, 11)\n"
          ]
        }
      ]
    },
    {
      "cell_type": "code",
      "source": [
        "df2 = df.groupby([\"IN_TREINEIRO\"]).get_group(0) #selecionamos apenas a população de não treineiros do dataset\n",
        "print(df2.shape) #visualização do dataset após a remoção dos treineiros"
      ],
      "metadata": {
        "colab": {
          "base_uri": "https://localhost:8080/"
        },
        "id": "mUXFAWeDaDLH",
        "outputId": "c6af9c70-bb26-49f0-b6ff-2bd2f35ef732"
      },
      "execution_count": null,
      "outputs": [
        {
          "output_type": "stream",
          "name": "stderr",
          "text": [
            "/tmp/ipython-input-31-3058718706.py:1: FutureWarning: When grouping with a length-1 list-like, you will need to pass a length-1 tuple to get_group in a future version of pandas. Pass `(name,)` instead of `name` to silence this warning.\n",
            "  df2 = df.groupby([\"IN_TREINEIRO\"]).get_group(0) #selecionamos apenas a população de não treineiros do dataset\n"
          ]
        },
        {
          "output_type": "stream",
          "name": "stdout",
          "text": [
            "(4986025, 11)\n"
          ]
        }
      ]
    },
    {
      "cell_type": "code",
      "source": [
        "mapa_renda = {\n",
        "        'A': 0,\n",
        "        'B': 954.00,\n",
        "        'C': 1431.00,\n",
        "        'D': 1908.00,\n",
        "        'E': 2385.00,\n",
        "        'F': 2862.00,\n",
        "        'G': 3816.00,\n",
        "        'H': 4770.00,\n",
        "        'I': 5724.00,\n",
        "        'J': 6678.00,\n",
        "        'K': 7632.00,\n",
        "        'L': 8586.00,\n",
        "        'M': 9540.00,\n",
        "        'N': 11448.00,\n",
        "        'O': 14310.00,\n",
        "        'P': 19080.00,\n",
        "        'Q': 23850.00\n",
        "} #mapeamento das rendas por letra\n",
        "\n",
        "df2['RENDA_FAMILIAR_PISO'] = df2['Q006'].map(mapa_renda)\n",
        "print(\"\\nColuna 'RENDA_FAMILIAR_PISO' criada com sucesso.\")\n",
        "\n",
        "# Verificação rápida da criação da coluna\n",
        "display(df2.head())"
      ],
      "metadata": {
        "colab": {
          "base_uri": "https://localhost:8080/",
          "height": 365
        },
        "id": "02AN1WvgpbG5",
        "outputId": "d4d39164-2aff-46b8-cc44-3e29124d1d5c"
      },
      "execution_count": null,
      "outputs": [
        {
          "output_type": "stream",
          "name": "stdout",
          "text": [
            "\n",
            "Coluna 'RENDA_FAMILIAR_PISO' criada com sucesso.\n"
          ]
        },
        {
          "output_type": "stream",
          "name": "stderr",
          "text": [
            "/tmp/ipython-input-32-1013885222.py:21: SettingWithCopyWarning: \n",
            "A value is trying to be set on a copy of a slice from a DataFrame.\n",
            "Try using .loc[row_indexer,col_indexer] = value instead\n",
            "\n",
            "See the caveats in the documentation: https://pandas.pydata.org/pandas-docs/stable/user_guide/indexing.html#returning-a-view-versus-a-copy\n",
            "  df2['RENDA_FAMILIAR_PISO'] = df2['Q006'].map(mapa_renda)\n"
          ]
        },
        {
          "output_type": "display_data",
          "data": {
            "text/plain": [
              "   TP_FAIXA_ETARIA TP_SEXO  TP_COR_RACA  TP_ESCOLA  IN_TREINEIRO  NU_NOTA_CN  \\\n",
              "0                2       F            4          4             0       534.2   \n",
              "1                3       F            4          1             0       506.9   \n",
              "2                3       M            0          2             0       470.6   \n",
              "3                2       F            3          4             0       588.9   \n",
              "4               11       F            5          1             0       477.8   \n",
              "\n",
              "   NU_NOTA_CH  NU_NOTA_LC  NU_NOTA_MT  NU_NOTA_REDACAO Q006  \\\n",
              "0       611.4       517.9       496.3            360.0    F   \n",
              "1       477.8       495.3       440.6            420.0    B   \n",
              "2       473.8       534.4       410.4            600.0    B   \n",
              "3       663.3       614.5       711.5            800.0    I   \n",
              "4       621.5       519.4       543.1            500.0    C   \n",
              "\n",
              "   RENDA_FAMILIAR_PISO  \n",
              "0               2862.0  \n",
              "1                954.0  \n",
              "2                954.0  \n",
              "3               5724.0  \n",
              "4               1431.0  "
            ],
            "text/html": [
              "\n",
              "  <div id=\"df-a588e5b4-7023-4001-ab14-a32b862fac35\" class=\"colab-df-container\">\n",
              "    <div>\n",
              "<style scoped>\n",
              "    .dataframe tbody tr th:only-of-type {\n",
              "        vertical-align: middle;\n",
              "    }\n",
              "\n",
              "    .dataframe tbody tr th {\n",
              "        vertical-align: top;\n",
              "    }\n",
              "\n",
              "    .dataframe thead th {\n",
              "        text-align: right;\n",
              "    }\n",
              "</style>\n",
              "<table border=\"1\" class=\"dataframe\">\n",
              "  <thead>\n",
              "    <tr style=\"text-align: right;\">\n",
              "      <th></th>\n",
              "      <th>TP_FAIXA_ETARIA</th>\n",
              "      <th>TP_SEXO</th>\n",
              "      <th>TP_COR_RACA</th>\n",
              "      <th>TP_ESCOLA</th>\n",
              "      <th>IN_TREINEIRO</th>\n",
              "      <th>NU_NOTA_CN</th>\n",
              "      <th>NU_NOTA_CH</th>\n",
              "      <th>NU_NOTA_LC</th>\n",
              "      <th>NU_NOTA_MT</th>\n",
              "      <th>NU_NOTA_REDACAO</th>\n",
              "      <th>Q006</th>\n",
              "      <th>RENDA_FAMILIAR_PISO</th>\n",
              "    </tr>\n",
              "  </thead>\n",
              "  <tbody>\n",
              "    <tr>\n",
              "      <th>0</th>\n",
              "      <td>2</td>\n",
              "      <td>F</td>\n",
              "      <td>4</td>\n",
              "      <td>4</td>\n",
              "      <td>0</td>\n",
              "      <td>534.2</td>\n",
              "      <td>611.4</td>\n",
              "      <td>517.9</td>\n",
              "      <td>496.3</td>\n",
              "      <td>360.0</td>\n",
              "      <td>F</td>\n",
              "      <td>2862.0</td>\n",
              "    </tr>\n",
              "    <tr>\n",
              "      <th>1</th>\n",
              "      <td>3</td>\n",
              "      <td>F</td>\n",
              "      <td>4</td>\n",
              "      <td>1</td>\n",
              "      <td>0</td>\n",
              "      <td>506.9</td>\n",
              "      <td>477.8</td>\n",
              "      <td>495.3</td>\n",
              "      <td>440.6</td>\n",
              "      <td>420.0</td>\n",
              "      <td>B</td>\n",
              "      <td>954.0</td>\n",
              "    </tr>\n",
              "    <tr>\n",
              "      <th>2</th>\n",
              "      <td>3</td>\n",
              "      <td>M</td>\n",
              "      <td>0</td>\n",
              "      <td>2</td>\n",
              "      <td>0</td>\n",
              "      <td>470.6</td>\n",
              "      <td>473.8</td>\n",
              "      <td>534.4</td>\n",
              "      <td>410.4</td>\n",
              "      <td>600.0</td>\n",
              "      <td>B</td>\n",
              "      <td>954.0</td>\n",
              "    </tr>\n",
              "    <tr>\n",
              "      <th>3</th>\n",
              "      <td>2</td>\n",
              "      <td>F</td>\n",
              "      <td>3</td>\n",
              "      <td>4</td>\n",
              "      <td>0</td>\n",
              "      <td>588.9</td>\n",
              "      <td>663.3</td>\n",
              "      <td>614.5</td>\n",
              "      <td>711.5</td>\n",
              "      <td>800.0</td>\n",
              "      <td>I</td>\n",
              "      <td>5724.0</td>\n",
              "    </tr>\n",
              "    <tr>\n",
              "      <th>4</th>\n",
              "      <td>11</td>\n",
              "      <td>F</td>\n",
              "      <td>5</td>\n",
              "      <td>1</td>\n",
              "      <td>0</td>\n",
              "      <td>477.8</td>\n",
              "      <td>621.5</td>\n",
              "      <td>519.4</td>\n",
              "      <td>543.1</td>\n",
              "      <td>500.0</td>\n",
              "      <td>C</td>\n",
              "      <td>1431.0</td>\n",
              "    </tr>\n",
              "  </tbody>\n",
              "</table>\n",
              "</div>\n",
              "    <div class=\"colab-df-buttons\">\n",
              "\n",
              "  <div class=\"colab-df-container\">\n",
              "    <button class=\"colab-df-convert\" onclick=\"convertToInteractive('df-a588e5b4-7023-4001-ab14-a32b862fac35')\"\n",
              "            title=\"Convert this dataframe to an interactive table.\"\n",
              "            style=\"display:none;\">\n",
              "\n",
              "  <svg xmlns=\"http://www.w3.org/2000/svg\" height=\"24px\" viewBox=\"0 -960 960 960\">\n",
              "    <path d=\"M120-120v-720h720v720H120Zm60-500h600v-160H180v160Zm220 220h160v-160H400v160Zm0 220h160v-160H400v160ZM180-400h160v-160H180v160Zm440 0h160v-160H620v160ZM180-180h160v-160H180v160Zm440 0h160v-160H620v160Z\"/>\n",
              "  </svg>\n",
              "    </button>\n",
              "\n",
              "  <style>\n",
              "    .colab-df-container {\n",
              "      display:flex;\n",
              "      gap: 12px;\n",
              "    }\n",
              "\n",
              "    .colab-df-convert {\n",
              "      background-color: #E8F0FE;\n",
              "      border: none;\n",
              "      border-radius: 50%;\n",
              "      cursor: pointer;\n",
              "      display: none;\n",
              "      fill: #1967D2;\n",
              "      height: 32px;\n",
              "      padding: 0 0 0 0;\n",
              "      width: 32px;\n",
              "    }\n",
              "\n",
              "    .colab-df-convert:hover {\n",
              "      background-color: #E2EBFA;\n",
              "      box-shadow: 0px 1px 2px rgba(60, 64, 67, 0.3), 0px 1px 3px 1px rgba(60, 64, 67, 0.15);\n",
              "      fill: #174EA6;\n",
              "    }\n",
              "\n",
              "    .colab-df-buttons div {\n",
              "      margin-bottom: 4px;\n",
              "    }\n",
              "\n",
              "    [theme=dark] .colab-df-convert {\n",
              "      background-color: #3B4455;\n",
              "      fill: #D2E3FC;\n",
              "    }\n",
              "\n",
              "    [theme=dark] .colab-df-convert:hover {\n",
              "      background-color: #434B5C;\n",
              "      box-shadow: 0px 1px 3px 1px rgba(0, 0, 0, 0.15);\n",
              "      filter: drop-shadow(0px 1px 2px rgba(0, 0, 0, 0.3));\n",
              "      fill: #FFFFFF;\n",
              "    }\n",
              "  </style>\n",
              "\n",
              "    <script>\n",
              "      const buttonEl =\n",
              "        document.querySelector('#df-a588e5b4-7023-4001-ab14-a32b862fac35 button.colab-df-convert');\n",
              "      buttonEl.style.display =\n",
              "        google.colab.kernel.accessAllowed ? 'block' : 'none';\n",
              "\n",
              "      async function convertToInteractive(key) {\n",
              "        const element = document.querySelector('#df-a588e5b4-7023-4001-ab14-a32b862fac35');\n",
              "        const dataTable =\n",
              "          await google.colab.kernel.invokeFunction('convertToInteractive',\n",
              "                                                    [key], {});\n",
              "        if (!dataTable) return;\n",
              "\n",
              "        const docLinkHtml = 'Like what you see? Visit the ' +\n",
              "          '<a target=\"_blank\" href=https://colab.research.google.com/notebooks/data_table.ipynb>data table notebook</a>'\n",
              "          + ' to learn more about interactive tables.';\n",
              "        element.innerHTML = '';\n",
              "        dataTable['output_type'] = 'display_data';\n",
              "        await google.colab.output.renderOutput(dataTable, element);\n",
              "        const docLink = document.createElement('div');\n",
              "        docLink.innerHTML = docLinkHtml;\n",
              "        element.appendChild(docLink);\n",
              "      }\n",
              "    </script>\n",
              "  </div>\n",
              "\n",
              "\n",
              "    <div id=\"df-a0b91aec-26bd-4178-a261-f28d8e1e3533\">\n",
              "      <button class=\"colab-df-quickchart\" onclick=\"quickchart('df-a0b91aec-26bd-4178-a261-f28d8e1e3533')\"\n",
              "                title=\"Suggest charts\"\n",
              "                style=\"display:none;\">\n",
              "\n",
              "<svg xmlns=\"http://www.w3.org/2000/svg\" height=\"24px\"viewBox=\"0 0 24 24\"\n",
              "     width=\"24px\">\n",
              "    <g>\n",
              "        <path d=\"M19 3H5c-1.1 0-2 .9-2 2v14c0 1.1.9 2 2 2h14c1.1 0 2-.9 2-2V5c0-1.1-.9-2-2-2zM9 17H7v-7h2v7zm4 0h-2V7h2v10zm4 0h-2v-4h2v4z\"/>\n",
              "    </g>\n",
              "</svg>\n",
              "      </button>\n",
              "\n",
              "<style>\n",
              "  .colab-df-quickchart {\n",
              "      --bg-color: #E8F0FE;\n",
              "      --fill-color: #1967D2;\n",
              "      --hover-bg-color: #E2EBFA;\n",
              "      --hover-fill-color: #174EA6;\n",
              "      --disabled-fill-color: #AAA;\n",
              "      --disabled-bg-color: #DDD;\n",
              "  }\n",
              "\n",
              "  [theme=dark] .colab-df-quickchart {\n",
              "      --bg-color: #3B4455;\n",
              "      --fill-color: #D2E3FC;\n",
              "      --hover-bg-color: #434B5C;\n",
              "      --hover-fill-color: #FFFFFF;\n",
              "      --disabled-bg-color: #3B4455;\n",
              "      --disabled-fill-color: #666;\n",
              "  }\n",
              "\n",
              "  .colab-df-quickchart {\n",
              "    background-color: var(--bg-color);\n",
              "    border: none;\n",
              "    border-radius: 50%;\n",
              "    cursor: pointer;\n",
              "    display: none;\n",
              "    fill: var(--fill-color);\n",
              "    height: 32px;\n",
              "    padding: 0;\n",
              "    width: 32px;\n",
              "  }\n",
              "\n",
              "  .colab-df-quickchart:hover {\n",
              "    background-color: var(--hover-bg-color);\n",
              "    box-shadow: 0 1px 2px rgba(60, 64, 67, 0.3), 0 1px 3px 1px rgba(60, 64, 67, 0.15);\n",
              "    fill: var(--button-hover-fill-color);\n",
              "  }\n",
              "\n",
              "  .colab-df-quickchart-complete:disabled,\n",
              "  .colab-df-quickchart-complete:disabled:hover {\n",
              "    background-color: var(--disabled-bg-color);\n",
              "    fill: var(--disabled-fill-color);\n",
              "    box-shadow: none;\n",
              "  }\n",
              "\n",
              "  .colab-df-spinner {\n",
              "    border: 2px solid var(--fill-color);\n",
              "    border-color: transparent;\n",
              "    border-bottom-color: var(--fill-color);\n",
              "    animation:\n",
              "      spin 1s steps(1) infinite;\n",
              "  }\n",
              "\n",
              "  @keyframes spin {\n",
              "    0% {\n",
              "      border-color: transparent;\n",
              "      border-bottom-color: var(--fill-color);\n",
              "      border-left-color: var(--fill-color);\n",
              "    }\n",
              "    20% {\n",
              "      border-color: transparent;\n",
              "      border-left-color: var(--fill-color);\n",
              "      border-top-color: var(--fill-color);\n",
              "    }\n",
              "    30% {\n",
              "      border-color: transparent;\n",
              "      border-left-color: var(--fill-color);\n",
              "      border-top-color: var(--fill-color);\n",
              "      border-right-color: var(--fill-color);\n",
              "    }\n",
              "    40% {\n",
              "      border-color: transparent;\n",
              "      border-right-color: var(--fill-color);\n",
              "      border-top-color: var(--fill-color);\n",
              "    }\n",
              "    60% {\n",
              "      border-color: transparent;\n",
              "      border-right-color: var(--fill-color);\n",
              "    }\n",
              "    80% {\n",
              "      border-color: transparent;\n",
              "      border-right-color: var(--fill-color);\n",
              "      border-bottom-color: var(--fill-color);\n",
              "    }\n",
              "    90% {\n",
              "      border-color: transparent;\n",
              "      border-bottom-color: var(--fill-color);\n",
              "    }\n",
              "  }\n",
              "</style>\n",
              "\n",
              "      <script>\n",
              "        async function quickchart(key) {\n",
              "          const quickchartButtonEl =\n",
              "            document.querySelector('#' + key + ' button');\n",
              "          quickchartButtonEl.disabled = true;  // To prevent multiple clicks.\n",
              "          quickchartButtonEl.classList.add('colab-df-spinner');\n",
              "          try {\n",
              "            const charts = await google.colab.kernel.invokeFunction(\n",
              "                'suggestCharts', [key], {});\n",
              "          } catch (error) {\n",
              "            console.error('Error during call to suggestCharts:', error);\n",
              "          }\n",
              "          quickchartButtonEl.classList.remove('colab-df-spinner');\n",
              "          quickchartButtonEl.classList.add('colab-df-quickchart-complete');\n",
              "        }\n",
              "        (() => {\n",
              "          let quickchartButtonEl =\n",
              "            document.querySelector('#df-a0b91aec-26bd-4178-a261-f28d8e1e3533 button');\n",
              "          quickchartButtonEl.style.display =\n",
              "            google.colab.kernel.accessAllowed ? 'block' : 'none';\n",
              "        })();\n",
              "      </script>\n",
              "    </div>\n",
              "\n",
              "    </div>\n",
              "  </div>\n"
            ],
            "application/vnd.google.colaboratory.intrinsic+json": {
              "type": "dataframe",
              "summary": "{\n  \"name\": \"display(df2\",\n  \"rows\": 5,\n  \"fields\": [\n    {\n      \"column\": \"TP_FAIXA_ETARIA\",\n      \"properties\": {\n        \"dtype\": \"number\",\n        \"std\": 3,\n        \"min\": 2,\n        \"max\": 11,\n        \"num_unique_values\": 3,\n        \"samples\": [\n          2,\n          3,\n          11\n        ],\n        \"semantic_type\": \"\",\n        \"description\": \"\"\n      }\n    },\n    {\n      \"column\": \"TP_SEXO\",\n      \"properties\": {\n        \"dtype\": \"category\",\n        \"num_unique_values\": 2,\n        \"samples\": [\n          \"M\",\n          \"F\"\n        ],\n        \"semantic_type\": \"\",\n        \"description\": \"\"\n      }\n    },\n    {\n      \"column\": \"TP_COR_RACA\",\n      \"properties\": {\n        \"dtype\": \"number\",\n        \"std\": 1,\n        \"min\": 0,\n        \"max\": 5,\n        \"num_unique_values\": 4,\n        \"samples\": [\n          0,\n          5\n        ],\n        \"semantic_type\": \"\",\n        \"description\": \"\"\n      }\n    },\n    {\n      \"column\": \"TP_ESCOLA\",\n      \"properties\": {\n        \"dtype\": \"number\",\n        \"std\": 1,\n        \"min\": 1,\n        \"max\": 4,\n        \"num_unique_values\": 3,\n        \"samples\": [\n          4,\n          1\n        ],\n        \"semantic_type\": \"\",\n        \"description\": \"\"\n      }\n    },\n    {\n      \"column\": \"IN_TREINEIRO\",\n      \"properties\": {\n        \"dtype\": \"number\",\n        \"std\": 0,\n        \"min\": 0,\n        \"max\": 0,\n        \"num_unique_values\": 1,\n        \"samples\": [\n          0\n        ],\n        \"semantic_type\": \"\",\n        \"description\": \"\"\n      }\n    },\n    {\n      \"column\": \"NU_NOTA_CN\",\n      \"properties\": {\n        \"dtype\": \"number\",\n        \"std\": 48.08416579290941,\n        \"min\": 470.6,\n        \"max\": 588.9,\n        \"num_unique_values\": 5,\n        \"samples\": [\n          506.9\n        ],\n        \"semantic_type\": \"\",\n        \"description\": \"\"\n      }\n    },\n    {\n      \"column\": \"NU_NOTA_CH\",\n      \"properties\": {\n        \"dtype\": \"number\",\n        \"std\": 87.78583598736186,\n        \"min\": 473.8,\n        \"max\": 663.3,\n        \"num_unique_values\": 5,\n        \"samples\": [\n          477.8\n        ],\n        \"semantic_type\": \"\",\n        \"description\": \"\"\n      }\n    },\n    {\n      \"column\": \"NU_NOTA_LC\",\n      \"properties\": {\n        \"dtype\": \"number\",\n        \"std\": 45.89123009900693,\n        \"min\": 495.3,\n        \"max\": 614.5,\n        \"num_unique_values\": 5,\n        \"samples\": [\n          495.3\n        ],\n        \"semantic_type\": \"\",\n        \"description\": \"\"\n      }\n    },\n    {\n      \"column\": \"NU_NOTA_MT\",\n      \"properties\": {\n        \"dtype\": \"number\",\n        \"std\": 118.4096153190272,\n        \"min\": 410.4,\n        \"max\": 711.5,\n        \"num_unique_values\": 5,\n        \"samples\": [\n          440.6\n        ],\n        \"semantic_type\": \"\",\n        \"description\": \"\"\n      }\n    },\n    {\n      \"column\": \"NU_NOTA_REDACAO\",\n      \"properties\": {\n        \"dtype\": \"number\",\n        \"std\": 172.8583234906552,\n        \"min\": 360.0,\n        \"max\": 800.0,\n        \"num_unique_values\": 5,\n        \"samples\": [\n          420.0\n        ],\n        \"semantic_type\": \"\",\n        \"description\": \"\"\n      }\n    },\n    {\n      \"column\": \"Q006\",\n      \"properties\": {\n        \"dtype\": \"string\",\n        \"num_unique_values\": 4,\n        \"samples\": [\n          \"B\"\n        ],\n        \"semantic_type\": \"\",\n        \"description\": \"\"\n      }\n    },\n    {\n      \"column\": \"RENDA_FAMILIAR_PISO\",\n      \"properties\": {\n        \"dtype\": \"number\",\n        \"std\": 2023.739607755899,\n        \"min\": 954.0,\n        \"max\": 5724.0,\n        \"num_unique_values\": 4,\n        \"samples\": [\n          954.0\n        ],\n        \"semantic_type\": \"\",\n        \"description\": \"\"\n      }\n    }\n  ]\n}"
            }
          },
          "metadata": {}
        }
      ]
    },
    {
      "cell_type": "code",
      "source": [
        "mediana_renda = df2['RENDA_FAMILIAR_PISO'].median()\n",
        "print(f\"\\nA mediana da renda (usando o piso) na amostra é: R$ {mediana_renda:,.2f}\")\n",
        "\n",
        "condicao = df2['RENDA_FAMILIAR_PISO'] <= mediana_renda\n",
        "df2['CLASSE_RENDA'] = np.where(condicao, 'Baixa Renda', 'Alta Renda')\n",
        "print(\"Coluna 'CLASSE_RENDA' criada com sucesso.\")\n",
        "\n",
        "print(\"\\nDistribuição das classes de renda:\")\n",
        "print(df2['CLASSE_RENDA'].value_counts(normalize=True).round(4) * 100) # Em percentual\n",
        "\n",
        "print(\"\\nExemplos da classificação final:\")\n",
        "display(df2[['Q006', 'RENDA_FAMILIAR_PISO', 'CLASSE_RENDA']].sample(10, random_state=42))"
      ],
      "metadata": {
        "colab": {
          "base_uri": "https://localhost:8080/",
          "height": 678
        },
        "id": "B8Cza10srIhW",
        "outputId": "927d421f-17ee-49e2-d0e0-73921f453291"
      },
      "execution_count": null,
      "outputs": [
        {
          "output_type": "stream",
          "name": "stdout",
          "text": [
            "\n",
            "A mediana da renda (usando o piso) na amostra é: R$ 1,431.00\n"
          ]
        },
        {
          "output_type": "stream",
          "name": "stderr",
          "text": [
            "/tmp/ipython-input-33-3982771939.py:5: SettingWithCopyWarning: \n",
            "A value is trying to be set on a copy of a slice from a DataFrame.\n",
            "Try using .loc[row_indexer,col_indexer] = value instead\n",
            "\n",
            "See the caveats in the documentation: https://pandas.pydata.org/pandas-docs/stable/user_guide/indexing.html#returning-a-view-versus-a-copy\n",
            "  df2['CLASSE_RENDA'] = np.where(condicao, 'Baixa Renda', 'Alta Renda')\n"
          ]
        },
        {
          "output_type": "stream",
          "name": "stdout",
          "text": [
            "Coluna 'CLASSE_RENDA' criada com sucesso.\n",
            "\n",
            "Distribuição das classes de renda:\n",
            "CLASSE_RENDA\n",
            "Baixa Renda    56.82\n",
            "Alta Renda     43.18\n",
            "Name: proportion, dtype: float64\n",
            "\n",
            "Exemplos da classificação final:\n"
          ]
        },
        {
          "output_type": "display_data",
          "data": {
            "text/plain": [
              "        Q006  RENDA_FAMILIAR_PISO CLASSE_RENDA\n",
              "2763133    E               2385.0   Alta Renda\n",
              "4374389    C               1431.0  Baixa Renda\n",
              "1253246    C               1431.0  Baixa Renda\n",
              "4628081    G               3816.0   Alta Renda\n",
              "2831223    G               3816.0   Alta Renda\n",
              "3586219    A                  0.0  Baixa Renda\n",
              "2906099    G               3816.0   Alta Renda\n",
              "2643105    B                954.0  Baixa Renda\n",
              "4836362    B                954.0  Baixa Renda\n",
              "4803408    E               2385.0   Alta Renda"
            ],
            "text/html": [
              "\n",
              "  <div id=\"df-0d20a924-0185-40db-8721-3270bafc87c7\" class=\"colab-df-container\">\n",
              "    <div>\n",
              "<style scoped>\n",
              "    .dataframe tbody tr th:only-of-type {\n",
              "        vertical-align: middle;\n",
              "    }\n",
              "\n",
              "    .dataframe tbody tr th {\n",
              "        vertical-align: top;\n",
              "    }\n",
              "\n",
              "    .dataframe thead th {\n",
              "        text-align: right;\n",
              "    }\n",
              "</style>\n",
              "<table border=\"1\" class=\"dataframe\">\n",
              "  <thead>\n",
              "    <tr style=\"text-align: right;\">\n",
              "      <th></th>\n",
              "      <th>Q006</th>\n",
              "      <th>RENDA_FAMILIAR_PISO</th>\n",
              "      <th>CLASSE_RENDA</th>\n",
              "    </tr>\n",
              "  </thead>\n",
              "  <tbody>\n",
              "    <tr>\n",
              "      <th>2763133</th>\n",
              "      <td>E</td>\n",
              "      <td>2385.0</td>\n",
              "      <td>Alta Renda</td>\n",
              "    </tr>\n",
              "    <tr>\n",
              "      <th>4374389</th>\n",
              "      <td>C</td>\n",
              "      <td>1431.0</td>\n",
              "      <td>Baixa Renda</td>\n",
              "    </tr>\n",
              "    <tr>\n",
              "      <th>1253246</th>\n",
              "      <td>C</td>\n",
              "      <td>1431.0</td>\n",
              "      <td>Baixa Renda</td>\n",
              "    </tr>\n",
              "    <tr>\n",
              "      <th>4628081</th>\n",
              "      <td>G</td>\n",
              "      <td>3816.0</td>\n",
              "      <td>Alta Renda</td>\n",
              "    </tr>\n",
              "    <tr>\n",
              "      <th>2831223</th>\n",
              "      <td>G</td>\n",
              "      <td>3816.0</td>\n",
              "      <td>Alta Renda</td>\n",
              "    </tr>\n",
              "    <tr>\n",
              "      <th>3586219</th>\n",
              "      <td>A</td>\n",
              "      <td>0.0</td>\n",
              "      <td>Baixa Renda</td>\n",
              "    </tr>\n",
              "    <tr>\n",
              "      <th>2906099</th>\n",
              "      <td>G</td>\n",
              "      <td>3816.0</td>\n",
              "      <td>Alta Renda</td>\n",
              "    </tr>\n",
              "    <tr>\n",
              "      <th>2643105</th>\n",
              "      <td>B</td>\n",
              "      <td>954.0</td>\n",
              "      <td>Baixa Renda</td>\n",
              "    </tr>\n",
              "    <tr>\n",
              "      <th>4836362</th>\n",
              "      <td>B</td>\n",
              "      <td>954.0</td>\n",
              "      <td>Baixa Renda</td>\n",
              "    </tr>\n",
              "    <tr>\n",
              "      <th>4803408</th>\n",
              "      <td>E</td>\n",
              "      <td>2385.0</td>\n",
              "      <td>Alta Renda</td>\n",
              "    </tr>\n",
              "  </tbody>\n",
              "</table>\n",
              "</div>\n",
              "    <div class=\"colab-df-buttons\">\n",
              "\n",
              "  <div class=\"colab-df-container\">\n",
              "    <button class=\"colab-df-convert\" onclick=\"convertToInteractive('df-0d20a924-0185-40db-8721-3270bafc87c7')\"\n",
              "            title=\"Convert this dataframe to an interactive table.\"\n",
              "            style=\"display:none;\">\n",
              "\n",
              "  <svg xmlns=\"http://www.w3.org/2000/svg\" height=\"24px\" viewBox=\"0 -960 960 960\">\n",
              "    <path d=\"M120-120v-720h720v720H120Zm60-500h600v-160H180v160Zm220 220h160v-160H400v160Zm0 220h160v-160H400v160ZM180-400h160v-160H180v160Zm440 0h160v-160H620v160ZM180-180h160v-160H180v160Zm440 0h160v-160H620v160Z\"/>\n",
              "  </svg>\n",
              "    </button>\n",
              "\n",
              "  <style>\n",
              "    .colab-df-container {\n",
              "      display:flex;\n",
              "      gap: 12px;\n",
              "    }\n",
              "\n",
              "    .colab-df-convert {\n",
              "      background-color: #E8F0FE;\n",
              "      border: none;\n",
              "      border-radius: 50%;\n",
              "      cursor: pointer;\n",
              "      display: none;\n",
              "      fill: #1967D2;\n",
              "      height: 32px;\n",
              "      padding: 0 0 0 0;\n",
              "      width: 32px;\n",
              "    }\n",
              "\n",
              "    .colab-df-convert:hover {\n",
              "      background-color: #E2EBFA;\n",
              "      box-shadow: 0px 1px 2px rgba(60, 64, 67, 0.3), 0px 1px 3px 1px rgba(60, 64, 67, 0.15);\n",
              "      fill: #174EA6;\n",
              "    }\n",
              "\n",
              "    .colab-df-buttons div {\n",
              "      margin-bottom: 4px;\n",
              "    }\n",
              "\n",
              "    [theme=dark] .colab-df-convert {\n",
              "      background-color: #3B4455;\n",
              "      fill: #D2E3FC;\n",
              "    }\n",
              "\n",
              "    [theme=dark] .colab-df-convert:hover {\n",
              "      background-color: #434B5C;\n",
              "      box-shadow: 0px 1px 3px 1px rgba(0, 0, 0, 0.15);\n",
              "      filter: drop-shadow(0px 1px 2px rgba(0, 0, 0, 0.3));\n",
              "      fill: #FFFFFF;\n",
              "    }\n",
              "  </style>\n",
              "\n",
              "    <script>\n",
              "      const buttonEl =\n",
              "        document.querySelector('#df-0d20a924-0185-40db-8721-3270bafc87c7 button.colab-df-convert');\n",
              "      buttonEl.style.display =\n",
              "        google.colab.kernel.accessAllowed ? 'block' : 'none';\n",
              "\n",
              "      async function convertToInteractive(key) {\n",
              "        const element = document.querySelector('#df-0d20a924-0185-40db-8721-3270bafc87c7');\n",
              "        const dataTable =\n",
              "          await google.colab.kernel.invokeFunction('convertToInteractive',\n",
              "                                                    [key], {});\n",
              "        if (!dataTable) return;\n",
              "\n",
              "        const docLinkHtml = 'Like what you see? Visit the ' +\n",
              "          '<a target=\"_blank\" href=https://colab.research.google.com/notebooks/data_table.ipynb>data table notebook</a>'\n",
              "          + ' to learn more about interactive tables.';\n",
              "        element.innerHTML = '';\n",
              "        dataTable['output_type'] = 'display_data';\n",
              "        await google.colab.output.renderOutput(dataTable, element);\n",
              "        const docLink = document.createElement('div');\n",
              "        docLink.innerHTML = docLinkHtml;\n",
              "        element.appendChild(docLink);\n",
              "      }\n",
              "    </script>\n",
              "  </div>\n",
              "\n",
              "\n",
              "    <div id=\"df-83027df0-e09a-4e3b-bc47-9fdaaf468787\">\n",
              "      <button class=\"colab-df-quickchart\" onclick=\"quickchart('df-83027df0-e09a-4e3b-bc47-9fdaaf468787')\"\n",
              "                title=\"Suggest charts\"\n",
              "                style=\"display:none;\">\n",
              "\n",
              "<svg xmlns=\"http://www.w3.org/2000/svg\" height=\"24px\"viewBox=\"0 0 24 24\"\n",
              "     width=\"24px\">\n",
              "    <g>\n",
              "        <path d=\"M19 3H5c-1.1 0-2 .9-2 2v14c0 1.1.9 2 2 2h14c1.1 0 2-.9 2-2V5c0-1.1-.9-2-2-2zM9 17H7v-7h2v7zm4 0h-2V7h2v10zm4 0h-2v-4h2v4z\"/>\n",
              "    </g>\n",
              "</svg>\n",
              "      </button>\n",
              "\n",
              "<style>\n",
              "  .colab-df-quickchart {\n",
              "      --bg-color: #E8F0FE;\n",
              "      --fill-color: #1967D2;\n",
              "      --hover-bg-color: #E2EBFA;\n",
              "      --hover-fill-color: #174EA6;\n",
              "      --disabled-fill-color: #AAA;\n",
              "      --disabled-bg-color: #DDD;\n",
              "  }\n",
              "\n",
              "  [theme=dark] .colab-df-quickchart {\n",
              "      --bg-color: #3B4455;\n",
              "      --fill-color: #D2E3FC;\n",
              "      --hover-bg-color: #434B5C;\n",
              "      --hover-fill-color: #FFFFFF;\n",
              "      --disabled-bg-color: #3B4455;\n",
              "      --disabled-fill-color: #666;\n",
              "  }\n",
              "\n",
              "  .colab-df-quickchart {\n",
              "    background-color: var(--bg-color);\n",
              "    border: none;\n",
              "    border-radius: 50%;\n",
              "    cursor: pointer;\n",
              "    display: none;\n",
              "    fill: var(--fill-color);\n",
              "    height: 32px;\n",
              "    padding: 0;\n",
              "    width: 32px;\n",
              "  }\n",
              "\n",
              "  .colab-df-quickchart:hover {\n",
              "    background-color: var(--hover-bg-color);\n",
              "    box-shadow: 0 1px 2px rgba(60, 64, 67, 0.3), 0 1px 3px 1px rgba(60, 64, 67, 0.15);\n",
              "    fill: var(--button-hover-fill-color);\n",
              "  }\n",
              "\n",
              "  .colab-df-quickchart-complete:disabled,\n",
              "  .colab-df-quickchart-complete:disabled:hover {\n",
              "    background-color: var(--disabled-bg-color);\n",
              "    fill: var(--disabled-fill-color);\n",
              "    box-shadow: none;\n",
              "  }\n",
              "\n",
              "  .colab-df-spinner {\n",
              "    border: 2px solid var(--fill-color);\n",
              "    border-color: transparent;\n",
              "    border-bottom-color: var(--fill-color);\n",
              "    animation:\n",
              "      spin 1s steps(1) infinite;\n",
              "  }\n",
              "\n",
              "  @keyframes spin {\n",
              "    0% {\n",
              "      border-color: transparent;\n",
              "      border-bottom-color: var(--fill-color);\n",
              "      border-left-color: var(--fill-color);\n",
              "    }\n",
              "    20% {\n",
              "      border-color: transparent;\n",
              "      border-left-color: var(--fill-color);\n",
              "      border-top-color: var(--fill-color);\n",
              "    }\n",
              "    30% {\n",
              "      border-color: transparent;\n",
              "      border-left-color: var(--fill-color);\n",
              "      border-top-color: var(--fill-color);\n",
              "      border-right-color: var(--fill-color);\n",
              "    }\n",
              "    40% {\n",
              "      border-color: transparent;\n",
              "      border-right-color: var(--fill-color);\n",
              "      border-top-color: var(--fill-color);\n",
              "    }\n",
              "    60% {\n",
              "      border-color: transparent;\n",
              "      border-right-color: var(--fill-color);\n",
              "    }\n",
              "    80% {\n",
              "      border-color: transparent;\n",
              "      border-right-color: var(--fill-color);\n",
              "      border-bottom-color: var(--fill-color);\n",
              "    }\n",
              "    90% {\n",
              "      border-color: transparent;\n",
              "      border-bottom-color: var(--fill-color);\n",
              "    }\n",
              "  }\n",
              "</style>\n",
              "\n",
              "      <script>\n",
              "        async function quickchart(key) {\n",
              "          const quickchartButtonEl =\n",
              "            document.querySelector('#' + key + ' button');\n",
              "          quickchartButtonEl.disabled = true;  // To prevent multiple clicks.\n",
              "          quickchartButtonEl.classList.add('colab-df-spinner');\n",
              "          try {\n",
              "            const charts = await google.colab.kernel.invokeFunction(\n",
              "                'suggestCharts', [key], {});\n",
              "          } catch (error) {\n",
              "            console.error('Error during call to suggestCharts:', error);\n",
              "          }\n",
              "          quickchartButtonEl.classList.remove('colab-df-spinner');\n",
              "          quickchartButtonEl.classList.add('colab-df-quickchart-complete');\n",
              "        }\n",
              "        (() => {\n",
              "          let quickchartButtonEl =\n",
              "            document.querySelector('#df-83027df0-e09a-4e3b-bc47-9fdaaf468787 button');\n",
              "          quickchartButtonEl.style.display =\n",
              "            google.colab.kernel.accessAllowed ? 'block' : 'none';\n",
              "        })();\n",
              "      </script>\n",
              "    </div>\n",
              "\n",
              "    </div>\n",
              "  </div>\n"
            ],
            "application/vnd.google.colaboratory.intrinsic+json": {
              "type": "dataframe",
              "summary": "{\n  \"name\": \"display(df2[['Q006', 'RENDA_FAMILIAR_PISO', 'CLASSE_RENDA']]\",\n  \"rows\": 10,\n  \"fields\": [\n    {\n      \"column\": \"Q006\",\n      \"properties\": {\n        \"dtype\": \"string\",\n        \"num_unique_values\": 5,\n        \"samples\": [\n          \"C\",\n          \"B\",\n          \"G\"\n        ],\n        \"semantic_type\": \"\",\n        \"description\": \"\"\n      }\n    },\n    {\n      \"column\": \"RENDA_FAMILIAR_PISO\",\n      \"properties\": {\n        \"dtype\": \"number\",\n        \"std\": 1371.4614103211218,\n        \"min\": 0.0,\n        \"max\": 3816.0,\n        \"num_unique_values\": 5,\n        \"samples\": [\n          1431.0,\n          954.0,\n          3816.0\n        ],\n        \"semantic_type\": \"\",\n        \"description\": \"\"\n      }\n    },\n    {\n      \"column\": \"CLASSE_RENDA\",\n      \"properties\": {\n        \"dtype\": \"category\",\n        \"num_unique_values\": 2,\n        \"samples\": [\n          \"Baixa Renda\",\n          \"Alta Renda\"\n        ],\n        \"semantic_type\": \"\",\n        \"description\": \"\"\n      }\n    }\n  ]\n}"
            }
          },
          "metadata": {}
        }
      ]
    },
    {
      "cell_type": "markdown",
      "source": [
        "## Escolhendo o tamanho da amostra:\n",
        "Para definir o tamanho da amostra, consideramos aceitável o uso de 10% da população por questões computacionais, a confecção dos gráficos com 100% seria muito demorada e acabou por exceder o limite de memória RAM em alguns casos."
      ],
      "metadata": {
        "id": "G0gRCRSnWZtt"
      }
    },
    {
      "cell_type": "code",
      "source": [
        "tamanho = 0.1\n",
        "\n",
        "amostra = df2.sample(frac=tamanho, random_state=42) #selecionamos apenas 10% do dataset para a Análise Exploratória de Dados\n",
        "\n",
        "print(\"Amostra (10%):\")\n",
        "display(amostra.head())"
      ],
      "metadata": {
        "colab": {
          "base_uri": "https://localhost:8080/",
          "height": 224
        },
        "id": "Yu7quA8ocHBM",
        "outputId": "6f00fdb7-10d3-4dd2-c8fe-2f05183d55c7"
      },
      "execution_count": null,
      "outputs": [
        {
          "output_type": "stream",
          "name": "stdout",
          "text": [
            "Amostra (10%):\n"
          ]
        },
        {
          "output_type": "display_data",
          "data": {
            "text/plain": [
              "         TP_FAIXA_ETARIA TP_SEXO  TP_COR_RACA  TP_ESCOLA  IN_TREINEIRO  \\\n",
              "2763133                3       F            3          2             0   \n",
              "4374389               11       F            3          1             0   \n",
              "1253246               11       F            3          1             0   \n",
              "4628081               11       F            1          1             0   \n",
              "2831223               11       F            3          1             0   \n",
              "\n",
              "         NU_NOTA_CN  NU_NOTA_CH  NU_NOTA_LC  NU_NOTA_MT  NU_NOTA_REDACAO Q006  \\\n",
              "2763133       442.2       424.6       519.6       558.8            440.0    E   \n",
              "4374389       494.8       635.2       576.8       373.0            620.0    C   \n",
              "1253246         NaN         NaN         NaN         NaN              NaN    C   \n",
              "4628081       626.0       676.1       646.6       791.0            700.0    G   \n",
              "2831223       541.0       609.9       506.5       446.3            320.0    G   \n",
              "\n",
              "         RENDA_FAMILIAR_PISO CLASSE_RENDA  \n",
              "2763133               2385.0   Alta Renda  \n",
              "4374389               1431.0  Baixa Renda  \n",
              "1253246               1431.0  Baixa Renda  \n",
              "4628081               3816.0   Alta Renda  \n",
              "2831223               3816.0   Alta Renda  "
            ],
            "text/html": [
              "\n",
              "  <div id=\"df-c157f35e-fabc-4785-a85c-4eb84f65f5a7\" class=\"colab-df-container\">\n",
              "    <div>\n",
              "<style scoped>\n",
              "    .dataframe tbody tr th:only-of-type {\n",
              "        vertical-align: middle;\n",
              "    }\n",
              "\n",
              "    .dataframe tbody tr th {\n",
              "        vertical-align: top;\n",
              "    }\n",
              "\n",
              "    .dataframe thead th {\n",
              "        text-align: right;\n",
              "    }\n",
              "</style>\n",
              "<table border=\"1\" class=\"dataframe\">\n",
              "  <thead>\n",
              "    <tr style=\"text-align: right;\">\n",
              "      <th></th>\n",
              "      <th>TP_FAIXA_ETARIA</th>\n",
              "      <th>TP_SEXO</th>\n",
              "      <th>TP_COR_RACA</th>\n",
              "      <th>TP_ESCOLA</th>\n",
              "      <th>IN_TREINEIRO</th>\n",
              "      <th>NU_NOTA_CN</th>\n",
              "      <th>NU_NOTA_CH</th>\n",
              "      <th>NU_NOTA_LC</th>\n",
              "      <th>NU_NOTA_MT</th>\n",
              "      <th>NU_NOTA_REDACAO</th>\n",
              "      <th>Q006</th>\n",
              "      <th>RENDA_FAMILIAR_PISO</th>\n",
              "      <th>CLASSE_RENDA</th>\n",
              "    </tr>\n",
              "  </thead>\n",
              "  <tbody>\n",
              "    <tr>\n",
              "      <th>2763133</th>\n",
              "      <td>3</td>\n",
              "      <td>F</td>\n",
              "      <td>3</td>\n",
              "      <td>2</td>\n",
              "      <td>0</td>\n",
              "      <td>442.2</td>\n",
              "      <td>424.6</td>\n",
              "      <td>519.6</td>\n",
              "      <td>558.8</td>\n",
              "      <td>440.0</td>\n",
              "      <td>E</td>\n",
              "      <td>2385.0</td>\n",
              "      <td>Alta Renda</td>\n",
              "    </tr>\n",
              "    <tr>\n",
              "      <th>4374389</th>\n",
              "      <td>11</td>\n",
              "      <td>F</td>\n",
              "      <td>3</td>\n",
              "      <td>1</td>\n",
              "      <td>0</td>\n",
              "      <td>494.8</td>\n",
              "      <td>635.2</td>\n",
              "      <td>576.8</td>\n",
              "      <td>373.0</td>\n",
              "      <td>620.0</td>\n",
              "      <td>C</td>\n",
              "      <td>1431.0</td>\n",
              "      <td>Baixa Renda</td>\n",
              "    </tr>\n",
              "    <tr>\n",
              "      <th>1253246</th>\n",
              "      <td>11</td>\n",
              "      <td>F</td>\n",
              "      <td>3</td>\n",
              "      <td>1</td>\n",
              "      <td>0</td>\n",
              "      <td>NaN</td>\n",
              "      <td>NaN</td>\n",
              "      <td>NaN</td>\n",
              "      <td>NaN</td>\n",
              "      <td>NaN</td>\n",
              "      <td>C</td>\n",
              "      <td>1431.0</td>\n",
              "      <td>Baixa Renda</td>\n",
              "    </tr>\n",
              "    <tr>\n",
              "      <th>4628081</th>\n",
              "      <td>11</td>\n",
              "      <td>F</td>\n",
              "      <td>1</td>\n",
              "      <td>1</td>\n",
              "      <td>0</td>\n",
              "      <td>626.0</td>\n",
              "      <td>676.1</td>\n",
              "      <td>646.6</td>\n",
              "      <td>791.0</td>\n",
              "      <td>700.0</td>\n",
              "      <td>G</td>\n",
              "      <td>3816.0</td>\n",
              "      <td>Alta Renda</td>\n",
              "    </tr>\n",
              "    <tr>\n",
              "      <th>2831223</th>\n",
              "      <td>11</td>\n",
              "      <td>F</td>\n",
              "      <td>3</td>\n",
              "      <td>1</td>\n",
              "      <td>0</td>\n",
              "      <td>541.0</td>\n",
              "      <td>609.9</td>\n",
              "      <td>506.5</td>\n",
              "      <td>446.3</td>\n",
              "      <td>320.0</td>\n",
              "      <td>G</td>\n",
              "      <td>3816.0</td>\n",
              "      <td>Alta Renda</td>\n",
              "    </tr>\n",
              "  </tbody>\n",
              "</table>\n",
              "</div>\n",
              "    <div class=\"colab-df-buttons\">\n",
              "\n",
              "  <div class=\"colab-df-container\">\n",
              "    <button class=\"colab-df-convert\" onclick=\"convertToInteractive('df-c157f35e-fabc-4785-a85c-4eb84f65f5a7')\"\n",
              "            title=\"Convert this dataframe to an interactive table.\"\n",
              "            style=\"display:none;\">\n",
              "\n",
              "  <svg xmlns=\"http://www.w3.org/2000/svg\" height=\"24px\" viewBox=\"0 -960 960 960\">\n",
              "    <path d=\"M120-120v-720h720v720H120Zm60-500h600v-160H180v160Zm220 220h160v-160H400v160Zm0 220h160v-160H400v160ZM180-400h160v-160H180v160Zm440 0h160v-160H620v160ZM180-180h160v-160H180v160Zm440 0h160v-160H620v160Z\"/>\n",
              "  </svg>\n",
              "    </button>\n",
              "\n",
              "  <style>\n",
              "    .colab-df-container {\n",
              "      display:flex;\n",
              "      gap: 12px;\n",
              "    }\n",
              "\n",
              "    .colab-df-convert {\n",
              "      background-color: #E8F0FE;\n",
              "      border: none;\n",
              "      border-radius: 50%;\n",
              "      cursor: pointer;\n",
              "      display: none;\n",
              "      fill: #1967D2;\n",
              "      height: 32px;\n",
              "      padding: 0 0 0 0;\n",
              "      width: 32px;\n",
              "    }\n",
              "\n",
              "    .colab-df-convert:hover {\n",
              "      background-color: #E2EBFA;\n",
              "      box-shadow: 0px 1px 2px rgba(60, 64, 67, 0.3), 0px 1px 3px 1px rgba(60, 64, 67, 0.15);\n",
              "      fill: #174EA6;\n",
              "    }\n",
              "\n",
              "    .colab-df-buttons div {\n",
              "      margin-bottom: 4px;\n",
              "    }\n",
              "\n",
              "    [theme=dark] .colab-df-convert {\n",
              "      background-color: #3B4455;\n",
              "      fill: #D2E3FC;\n",
              "    }\n",
              "\n",
              "    [theme=dark] .colab-df-convert:hover {\n",
              "      background-color: #434B5C;\n",
              "      box-shadow: 0px 1px 3px 1px rgba(0, 0, 0, 0.15);\n",
              "      filter: drop-shadow(0px 1px 2px rgba(0, 0, 0, 0.3));\n",
              "      fill: #FFFFFF;\n",
              "    }\n",
              "  </style>\n",
              "\n",
              "    <script>\n",
              "      const buttonEl =\n",
              "        document.querySelector('#df-c157f35e-fabc-4785-a85c-4eb84f65f5a7 button.colab-df-convert');\n",
              "      buttonEl.style.display =\n",
              "        google.colab.kernel.accessAllowed ? 'block' : 'none';\n",
              "\n",
              "      async function convertToInteractive(key) {\n",
              "        const element = document.querySelector('#df-c157f35e-fabc-4785-a85c-4eb84f65f5a7');\n",
              "        const dataTable =\n",
              "          await google.colab.kernel.invokeFunction('convertToInteractive',\n",
              "                                                    [key], {});\n",
              "        if (!dataTable) return;\n",
              "\n",
              "        const docLinkHtml = 'Like what you see? Visit the ' +\n",
              "          '<a target=\"_blank\" href=https://colab.research.google.com/notebooks/data_table.ipynb>data table notebook</a>'\n",
              "          + ' to learn more about interactive tables.';\n",
              "        element.innerHTML = '';\n",
              "        dataTable['output_type'] = 'display_data';\n",
              "        await google.colab.output.renderOutput(dataTable, element);\n",
              "        const docLink = document.createElement('div');\n",
              "        docLink.innerHTML = docLinkHtml;\n",
              "        element.appendChild(docLink);\n",
              "      }\n",
              "    </script>\n",
              "  </div>\n",
              "\n",
              "\n",
              "    <div id=\"df-89e9147b-dc8f-40cf-a1c5-b11e4b5cd9f5\">\n",
              "      <button class=\"colab-df-quickchart\" onclick=\"quickchart('df-89e9147b-dc8f-40cf-a1c5-b11e4b5cd9f5')\"\n",
              "                title=\"Suggest charts\"\n",
              "                style=\"display:none;\">\n",
              "\n",
              "<svg xmlns=\"http://www.w3.org/2000/svg\" height=\"24px\"viewBox=\"0 0 24 24\"\n",
              "     width=\"24px\">\n",
              "    <g>\n",
              "        <path d=\"M19 3H5c-1.1 0-2 .9-2 2v14c0 1.1.9 2 2 2h14c1.1 0 2-.9 2-2V5c0-1.1-.9-2-2-2zM9 17H7v-7h2v7zm4 0h-2V7h2v10zm4 0h-2v-4h2v4z\"/>\n",
              "    </g>\n",
              "</svg>\n",
              "      </button>\n",
              "\n",
              "<style>\n",
              "  .colab-df-quickchart {\n",
              "      --bg-color: #E8F0FE;\n",
              "      --fill-color: #1967D2;\n",
              "      --hover-bg-color: #E2EBFA;\n",
              "      --hover-fill-color: #174EA6;\n",
              "      --disabled-fill-color: #AAA;\n",
              "      --disabled-bg-color: #DDD;\n",
              "  }\n",
              "\n",
              "  [theme=dark] .colab-df-quickchart {\n",
              "      --bg-color: #3B4455;\n",
              "      --fill-color: #D2E3FC;\n",
              "      --hover-bg-color: #434B5C;\n",
              "      --hover-fill-color: #FFFFFF;\n",
              "      --disabled-bg-color: #3B4455;\n",
              "      --disabled-fill-color: #666;\n",
              "  }\n",
              "\n",
              "  .colab-df-quickchart {\n",
              "    background-color: var(--bg-color);\n",
              "    border: none;\n",
              "    border-radius: 50%;\n",
              "    cursor: pointer;\n",
              "    display: none;\n",
              "    fill: var(--fill-color);\n",
              "    height: 32px;\n",
              "    padding: 0;\n",
              "    width: 32px;\n",
              "  }\n",
              "\n",
              "  .colab-df-quickchart:hover {\n",
              "    background-color: var(--hover-bg-color);\n",
              "    box-shadow: 0 1px 2px rgba(60, 64, 67, 0.3), 0 1px 3px 1px rgba(60, 64, 67, 0.15);\n",
              "    fill: var(--button-hover-fill-color);\n",
              "  }\n",
              "\n",
              "  .colab-df-quickchart-complete:disabled,\n",
              "  .colab-df-quickchart-complete:disabled:hover {\n",
              "    background-color: var(--disabled-bg-color);\n",
              "    fill: var(--disabled-fill-color);\n",
              "    box-shadow: none;\n",
              "  }\n",
              "\n",
              "  .colab-df-spinner {\n",
              "    border: 2px solid var(--fill-color);\n",
              "    border-color: transparent;\n",
              "    border-bottom-color: var(--fill-color);\n",
              "    animation:\n",
              "      spin 1s steps(1) infinite;\n",
              "  }\n",
              "\n",
              "  @keyframes spin {\n",
              "    0% {\n",
              "      border-color: transparent;\n",
              "      border-bottom-color: var(--fill-color);\n",
              "      border-left-color: var(--fill-color);\n",
              "    }\n",
              "    20% {\n",
              "      border-color: transparent;\n",
              "      border-left-color: var(--fill-color);\n",
              "      border-top-color: var(--fill-color);\n",
              "    }\n",
              "    30% {\n",
              "      border-color: transparent;\n",
              "      border-left-color: var(--fill-color);\n",
              "      border-top-color: var(--fill-color);\n",
              "      border-right-color: var(--fill-color);\n",
              "    }\n",
              "    40% {\n",
              "      border-color: transparent;\n",
              "      border-right-color: var(--fill-color);\n",
              "      border-top-color: var(--fill-color);\n",
              "    }\n",
              "    60% {\n",
              "      border-color: transparent;\n",
              "      border-right-color: var(--fill-color);\n",
              "    }\n",
              "    80% {\n",
              "      border-color: transparent;\n",
              "      border-right-color: var(--fill-color);\n",
              "      border-bottom-color: var(--fill-color);\n",
              "    }\n",
              "    90% {\n",
              "      border-color: transparent;\n",
              "      border-bottom-color: var(--fill-color);\n",
              "    }\n",
              "  }\n",
              "</style>\n",
              "\n",
              "      <script>\n",
              "        async function quickchart(key) {\n",
              "          const quickchartButtonEl =\n",
              "            document.querySelector('#' + key + ' button');\n",
              "          quickchartButtonEl.disabled = true;  // To prevent multiple clicks.\n",
              "          quickchartButtonEl.classList.add('colab-df-spinner');\n",
              "          try {\n",
              "            const charts = await google.colab.kernel.invokeFunction(\n",
              "                'suggestCharts', [key], {});\n",
              "          } catch (error) {\n",
              "            console.error('Error during call to suggestCharts:', error);\n",
              "          }\n",
              "          quickchartButtonEl.classList.remove('colab-df-spinner');\n",
              "          quickchartButtonEl.classList.add('colab-df-quickchart-complete');\n",
              "        }\n",
              "        (() => {\n",
              "          let quickchartButtonEl =\n",
              "            document.querySelector('#df-89e9147b-dc8f-40cf-a1c5-b11e4b5cd9f5 button');\n",
              "          quickchartButtonEl.style.display =\n",
              "            google.colab.kernel.accessAllowed ? 'block' : 'none';\n",
              "        })();\n",
              "      </script>\n",
              "    </div>\n",
              "\n",
              "    </div>\n",
              "  </div>\n"
            ],
            "application/vnd.google.colaboratory.intrinsic+json": {
              "type": "dataframe",
              "summary": "{\n  \"name\": \"display(amostra\",\n  \"rows\": 5,\n  \"fields\": [\n    {\n      \"column\": \"TP_FAIXA_ETARIA\",\n      \"properties\": {\n        \"dtype\": \"number\",\n        \"std\": 3,\n        \"min\": 3,\n        \"max\": 11,\n        \"num_unique_values\": 2,\n        \"samples\": [\n          11,\n          3\n        ],\n        \"semantic_type\": \"\",\n        \"description\": \"\"\n      }\n    },\n    {\n      \"column\": \"TP_SEXO\",\n      \"properties\": {\n        \"dtype\": \"category\",\n        \"num_unique_values\": 1,\n        \"samples\": [\n          \"F\"\n        ],\n        \"semantic_type\": \"\",\n        \"description\": \"\"\n      }\n    },\n    {\n      \"column\": \"TP_COR_RACA\",\n      \"properties\": {\n        \"dtype\": \"number\",\n        \"std\": 0,\n        \"min\": 1,\n        \"max\": 3,\n        \"num_unique_values\": 2,\n        \"samples\": [\n          1\n        ],\n        \"semantic_type\": \"\",\n        \"description\": \"\"\n      }\n    },\n    {\n      \"column\": \"TP_ESCOLA\",\n      \"properties\": {\n        \"dtype\": \"number\",\n        \"std\": 0,\n        \"min\": 1,\n        \"max\": 2,\n        \"num_unique_values\": 2,\n        \"samples\": [\n          1\n        ],\n        \"semantic_type\": \"\",\n        \"description\": \"\"\n      }\n    },\n    {\n      \"column\": \"IN_TREINEIRO\",\n      \"properties\": {\n        \"dtype\": \"number\",\n        \"std\": 0,\n        \"min\": 0,\n        \"max\": 0,\n        \"num_unique_values\": 1,\n        \"samples\": [\n          0\n        ],\n        \"semantic_type\": \"\",\n        \"description\": \"\"\n      }\n    },\n    {\n      \"column\": \"NU_NOTA_CN\",\n      \"properties\": {\n        \"dtype\": \"number\",\n        \"std\": 77.93347590520179,\n        \"min\": 442.2,\n        \"max\": 626.0,\n        \"num_unique_values\": 4,\n        \"samples\": [\n          494.8\n        ],\n        \"semantic_type\": \"\",\n        \"description\": \"\"\n      }\n    },\n    {\n      \"column\": \"NU_NOTA_CH\",\n      \"properties\": {\n        \"dtype\": \"number\",\n        \"std\": 111.29392016937254,\n        \"min\": 424.6,\n        \"max\": 676.1,\n        \"num_unique_values\": 4,\n        \"samples\": [\n          635.2\n        ],\n        \"semantic_type\": \"\",\n        \"description\": \"\"\n      }\n    },\n    {\n      \"column\": \"NU_NOTA_LC\",\n      \"properties\": {\n        \"dtype\": \"number\",\n        \"std\": 63.91047775339085,\n        \"min\": 506.5,\n        \"max\": 646.6,\n        \"num_unique_values\": 4,\n        \"samples\": [\n          576.8\n        ],\n        \"semantic_type\": \"\",\n        \"description\": \"\"\n      }\n    },\n    {\n      \"column\": \"NU_NOTA_MT\",\n      \"properties\": {\n        \"dtype\": \"number\",\n        \"std\": 182.5764018157878,\n        \"min\": 373.0,\n        \"max\": 791.0,\n        \"num_unique_values\": 4,\n        \"samples\": [\n          373.0\n        ],\n        \"semantic_type\": \"\",\n        \"description\": \"\"\n      }\n    },\n    {\n      \"column\": \"NU_NOTA_REDACAO\",\n      \"properties\": {\n        \"dtype\": \"number\",\n        \"std\": 172.04650534085255,\n        \"min\": 320.0,\n        \"max\": 700.0,\n        \"num_unique_values\": 4,\n        \"samples\": [\n          620.0\n        ],\n        \"semantic_type\": \"\",\n        \"description\": \"\"\n      }\n    },\n    {\n      \"column\": \"Q006\",\n      \"properties\": {\n        \"dtype\": \"string\",\n        \"num_unique_values\": 3,\n        \"samples\": [\n          \"E\"\n        ],\n        \"semantic_type\": \"\",\n        \"description\": \"\"\n      }\n    },\n    {\n      \"column\": \"RENDA_FAMILIAR_PISO\",\n      \"properties\": {\n        \"dtype\": \"number\",\n        \"std\": 1197.2604979702621,\n        \"min\": 1431.0,\n        \"max\": 3816.0,\n        \"num_unique_values\": 3,\n        \"samples\": [\n          2385.0\n        ],\n        \"semantic_type\": \"\",\n        \"description\": \"\"\n      }\n    },\n    {\n      \"column\": \"CLASSE_RENDA\",\n      \"properties\": {\n        \"dtype\": \"category\",\n        \"num_unique_values\": 2,\n        \"samples\": [\n          \"Baixa Renda\"\n        ],\n        \"semantic_type\": \"\",\n        \"description\": \"\"\n      }\n    }\n  ]\n}"
            }
          },
          "metadata": {}
        }
      ]
    },
    {
      "cell_type": "markdown",
      "source": [
        "Criamos a coluna de Renda quantitativa com base nas opções da Q006, uma questão do questionário social que oferecia opções de faixa salarial com letras como resposta.\n",
        "\n",
        "Essa decisão foi tomada para que mais tarde pudessemos analisar a renda de modo quantitativo, possibilitando análise nos testes e na AED."
      ],
      "metadata": {
        "id": "OwsRL6VZZTpN"
      }
    },
    {
      "cell_type": "markdown",
      "source": [
        "## Visualização dos dados"
      ],
      "metadata": {
        "id": "W13jFZ5Aaics"
      }
    },
    {
      "cell_type": "code",
      "source": [
        "sns.boxplot(amostra[\"RENDA_FAMILIAR_PISO\"])"
      ],
      "metadata": {
        "id": "c3iVKKaeo6We",
        "outputId": "43c0842d-134d-4dd7-e020-e82fc5fe96fc",
        "colab": {
          "base_uri": "https://localhost:8080/",
          "height": 433
        }
      },
      "execution_count": null,
      "outputs": [
        {
          "output_type": "execute_result",
          "data": {
            "text/plain": [
              "<Axes: ylabel='RENDA_FAMILIAR_PISO'>"
            ]
          },
          "metadata": {},
          "execution_count": 35
        },
        {
          "output_type": "display_data",
          "data": {
            "text/plain": [
              "<Figure size 640x480 with 1 Axes>"
            ],
            "image/png": "[encoded data removed]"
          },
          "metadata": {}
        }
      ]
    },
    {
      "cell_type": "code",
      "source": [
        "plt.figure(figsize=(15, 7))\n",
        "sns.barplot(data=amostra, x=amostra['RENDA_FAMILIAR_PISO'], y=amostra['NU_NOTA_MT'])\n",
        "plt.show()"
      ],
      "metadata": {
        "id": "E0ZfXzzXrP82",
        "outputId": "2962aca7-3c5f-41a5-84b1-5f62a141ed3a",
        "colab": {
          "base_uri": "https://localhost:8080/",
          "height": 619
        }
      },
      "execution_count": null,
      "outputs": [
        {
          "output_type": "display_data",
          "data": {
            "text/plain": [
              "<Figure size 1500x700 with 1 Axes>"
            ],
            "image/png": "[encoded data removed]"
          },
          "metadata": {}
        }
      ]
    },
    {
      "cell_type": "markdown",
      "source": [
        "Observa-se de modo visual que as notas tendem a sofrer um aumento considerável conforme a renda do participante aumenta, verificaremos isso posteriormente na sessão de testes de hipótese."
      ],
      "metadata": {
        "id": "E7rIM4SWV9n2"
      }
    },
    {
      "cell_type": "code",
      "source": [
        "amostra['NOTA_MEDIA'] = (amostra['NU_NOTA_CH'] + amostra['NU_NOTA_CN'] + amostra['NU_NOTA_LC'] + amostra['NU_NOTA_REDACAO'] + amostra['NU_NOTA_MT'])/5\n",
        "visualizacao = amostra['NOTA_MEDIA'].dropna()\n",
        "print(visualizacao)\n",
        "sns.boxplot(y=visualizacao, x=amostra['TP_SEXO'])"
      ],
      "metadata": {
        "id": "dPuMWfPoxF0e",
        "outputId": "c5e479ea-bc15-4fe1-c9b5-4ca9d8fb63b1",
        "colab": {
          "base_uri": "https://localhost:8080/",
          "height": 675
        }
      },
      "execution_count": null,
      "outputs": [
        {
          "output_type": "stream",
          "name": "stdout",
          "text": [
            "2763133    477.04\n",
            "4374389    539.96\n",
            "4628081    687.94\n",
            "2831223    484.74\n",
            "2906099    475.60\n",
            "            ...  \n",
            "4064409    616.18\n",
            "4277646    472.34\n",
            "4125989    596.30\n",
            "477705     421.80\n",
            "4422864    536.24\n",
            "Name: NOTA_MEDIA, Length: 343300, dtype: float64\n"
          ]
        },
        {
          "output_type": "execute_result",
          "data": {
            "text/plain": [
              "<Axes: xlabel='TP_SEXO', ylabel='NOTA_MEDIA'>"
            ]
          },
          "metadata": {},
          "execution_count": 37
        },
        {
          "output_type": "display_data",
          "data": {
            "text/plain": [
              "<Figure size 640x480 with 1 Axes>"
            ],
            "image/png": "[encoded data removed]"
          },
          "metadata": {}
        }
      ]
    },
    {
      "cell_type": "markdown",
      "source": [
        "Os boxplots parecem visualmente próximos, o que pode indicar pouco diferença entre os grupos analisados, posteriormente nesse trabalho, na sessão de testes de hipótese, verificaremos isso com rigor estatśtico."
      ],
      "metadata": {
        "id": "CJNHAL7cVqLy"
      }
    },
    {
      "cell_type": "markdown",
      "source": [
        "### Matriz Correlação\n",
        "Aqui observamos a matriz correlação para possíveis relações de fácil detecção entre nossas variaveis quantitativas"
      ],
      "metadata": {
        "id": "tn7j7KPE50zD"
      }
    },
    {
      "cell_type": "code",
      "source": [
        "df_correlacao = amostra[['RENDA_FAMILIAR_PISO', 'NOTA_MEDIA', 'NU_NOTA_CN', 'NU_NOTA_CH', 'NU_NOTA_LC', 'NU_NOTA_MT', 'NU_NOTA_REDACAO']].corr(method='spearman')\n",
        "#nessa matriz corr utilizamos o método de spearman por não exigir que os dados estejam normalmente distribuidos (o que testaremos abaixo nessa análise)\n",
        "print(\"\\nMatriz de Correlação (Valores):\")\n",
        "print(df_correlacao)\n",
        "\n",
        "plt.figure(figsize=(10, 8))\n",
        "\n",
        "sns.heatmap(\n",
        "    df_correlacao,\n",
        "    annot=True,\n",
        "    cmap='coolwarm',\n",
        "    fmt=\".2f\",\n",
        "    linewidths=.5\n",
        ")\n",
        "\n",
        "plt.title('Matriz de Correlação de Spearman entre as Notas', fontsize=16)\n",
        "\n",
        "plt.show()"
      ],
      "metadata": {
        "id": "p07ZybWe5bLC",
        "colab": {
          "base_uri": "https://localhost:8080/",
          "height": 1000
        },
        "outputId": "20e8fe2b-b8ca-495a-eb7a-309273a07602"
      },
      "execution_count": null,
      "outputs": [
        {
          "output_type": "stream",
          "name": "stdout",
          "text": [
            "\n",
            "Matriz de Correlação (Valores):\n",
            "                     RENDA_FAMILIAR_PISO  NOTA_MEDIA  NU_NOTA_CN  NU_NOTA_CH  \\\n",
            "RENDA_FAMILIAR_PISO             1.000000    0.437801    0.363722    0.373024   \n",
            "NOTA_MEDIA                      0.437801    1.000000    0.713757    0.800775   \n",
            "NU_NOTA_CN                      0.363722    0.713757    1.000000    0.583230   \n",
            "NU_NOTA_CH                      0.373024    0.800775    0.583230    1.000000   \n",
            "NU_NOTA_LC                      0.400735    0.823428    0.590049    0.728607   \n",
            "NU_NOTA_MT                      0.373051    0.717995    0.485213    0.528068   \n",
            "NU_NOTA_REDACAO                 0.317173    0.847759    0.475306    0.530528   \n",
            "\n",
            "                     NU_NOTA_LC  NU_NOTA_MT  NU_NOTA_REDACAO  \n",
            "RENDA_FAMILIAR_PISO    0.400735    0.373051         0.317173  \n",
            "NOTA_MEDIA             0.823428    0.717995         0.847759  \n",
            "NU_NOTA_CN             0.590049    0.485213         0.475306  \n",
            "NU_NOTA_CH             0.728607    0.528068         0.530528  \n",
            "NU_NOTA_LC             1.000000    0.550415         0.576540  \n",
            "NU_NOTA_MT             0.550415    1.000000         0.453836  \n",
            "NU_NOTA_REDACAO        0.576540    0.453836         1.000000  \n"
          ]
        },
        {
          "output_type": "display_data",
          "data": {
            "text/plain": [
              "<Figure size 1000x800 with 2 Axes>"
            ],
            "image/png": "[encoded data removed]"
          },
          "metadata": {}
        }
      ]
    },
    {
      "cell_type": "markdown",
      "source": [
        "Pode-se observar relações claras entre as notas individuais e finais, principalmente a nota de redação, que é a mais relacionada com a nota média.\n",
        "A renda e a nota média apresentam uma relação moderada."
      ],
      "metadata": {
        "id": "X1_Ckfe9WRPe"
      }
    },
    {
      "cell_type": "markdown",
      "source": [
        "### Visualização da distribuição dos dados\n",
        "Distribuição dos dados visualmente"
      ],
      "metadata": {
        "id": "iHDmGOBR540q"
      }
    },
    {
      "cell_type": "code",
      "source": [
        "plt.figure(figsize=[12, 5])\n",
        "\n",
        "plt.subplot(1, 2, 1)\n",
        "sns.histplot(amostra['RENDA_FAMILIAR_PISO'], kde=True, color='blue')\n",
        "plt.title('Histograma dos Dados de Renda')\n",
        "\n",
        "plt.subplot(1, 2, 2)\n",
        "sns.histplot(amostra['NOTA_MEDIA'], kde=True, color='red')\n",
        "plt.title('Histograma dos Dados de Nota')"
      ],
      "metadata": {
        "id": "GLZYC0JVsha1",
        "outputId": "31ce2c6f-8299-4bce-921f-65e6b3601326",
        "colab": {
          "base_uri": "https://localhost:8080/",
          "height": 504
        }
      },
      "execution_count": null,
      "outputs": [
        {
          "output_type": "execute_result",
          "data": {
            "text/plain": [
              "Text(0.5, 1.0, 'Histograma dos Dados de Nota')"
            ]
          },
          "metadata": {},
          "execution_count": 39
        },
        {
          "output_type": "display_data",
          "data": {
            "text/plain": [
              "<Figure size 1200x500 with 2 Axes>"
            ],
            "image/png": "[encoded data removed]"
          },
          "metadata": {}
        }
      ]
    },
    {
      "cell_type": "markdown",
      "source": [
        "Como é possível observar, os gráficos se assemelham de modo visual à uma distribuição normal."
      ],
      "metadata": {
        "id": "rhr5ArrbVU4d"
      }
    },
    {
      "cell_type": "markdown",
      "source": [
        "### Teste da normalidade para os dados quantitativos do banco de dados\n",
        "Aqui realizamos o teste para ver se de fato os dados estão distribuidos em uma Normal"
      ],
      "metadata": {
        "id": "bwUNhoDC1XrX"
      }
    },
    {
      "cell_type": "code",
      "source": [
        "#realizando o Teste de Shapiro-Wilk\n",
        "stat1, p1 = stats.shapiro(amostra['RENDA_FAMILIAR_PISO'])\n",
        "notas_validas = amostra['NOTA_MEDIA'].dropna()\n",
        "stat2, p2 = stats.shapiro(notas_validas)\n",
        "\n",
        "print(f'Dados Renda: Estatística={stat1:.3f}, p-valor={p1:.3f}')\n",
        "print(f'Dados Notas: Estatística={stat2:.3f}, p-valor={p2:.3f}')\n",
        "\n",
        "alpha = 0.05\n",
        "\n",
        "if p1 > alpha:\n",
        "    print('\\nPara as Rendas: A amostra parece ser normalmente distribuída (falhamos em rejeitar H0).')\n",
        "else:\n",
        "    print('\\nPara as Rendas: A amostra não parece ser normalmente distribuída (rejeitamos H0).')\n",
        "\n",
        "if p2 > alpha:\n",
        "    print('Para as Notas: A amostra parece ser normalmente distribuída (falhamos em rejeitar H0).')\n",
        "else:\n",
        "    print('Para as Notas: A amostra não parece ser normalmente distribuída (rejeitamos H0).')"
      ],
      "metadata": {
        "id": "crshp1-Btz6O",
        "outputId": "d2b08d06-7454-42c9-80b1-2aa80e6d1b6c",
        "colab": {
          "base_uri": "https://localhost:8080/"
        }
      },
      "execution_count": null,
      "outputs": [
        {
          "output_type": "stream",
          "name": "stdout",
          "text": [
            "Dados Renda: Estatística=0.558, p-valor=0.000\n",
            "Dados Notas: Estatística=0.981, p-valor=0.000\n",
            "\n",
            "Para as Rendas: A amostra não parece ser normalmente distribuída (rejeitamos H0).\n",
            "Para as Notas: A amostra não parece ser normalmente distribuída (rejeitamos H0).\n"
          ]
        },
        {
          "output_type": "stream",
          "name": "stderr",
          "text": [
            "/usr/local/lib/python3.11/dist-packages/scipy/stats/_axis_nan_policy.py:586: UserWarning: scipy.stats.shapiro: For N > 5000, computed p-value may not be accurate. Current N is 498602.\n",
            "  res = hypotest_fun_out(*samples, **kwds)\n",
            "/usr/local/lib/python3.11/dist-packages/scipy/stats/_axis_nan_policy.py:586: UserWarning: scipy.stats.shapiro: For N > 5000, computed p-value may not be accurate. Current N is 343300.\n",
            "  res = hypotest_fun_out(*samples, **kwds)\n"
          ]
        }
      ]
    },
    {
      "cell_type": "markdown",
      "source": [
        "Rejeitamos H0 em ambos os casos, o que significa que os dados não seguem a distribuição normal, portanto, os testes de hipótese a partir desse momento usarão métodos não paramétricos"
      ],
      "metadata": {
        "id": "waLVXkaXdxd_"
      }
    },
    {
      "cell_type": "markdown",
      "source": [
        "# Testes de Hipótese\n"
      ],
      "metadata": {
        "id": "D0_JfPQo3J7P"
      }
    },
    {
      "cell_type": "markdown",
      "source": [
        "## Renda X Nota Redação\n",
        "\n",
        "Utilizaremos o Teste de Mann-Whitney U (alternativa não paramétrica ao Teste t de Student) com significância de 5%"
      ],
      "metadata": {
        "id": "-Ryvrke34iI7"
      }
    },
    {
      "cell_type": "markdown",
      "source": [
        "H0: A distribuição das notas de redação é a mesma para os grupos de 'Baixa Renda' e 'Alta Renda'\n",
        "\n",
        "H1: A distribuição das notas de redação não é a mesma entre os dois grupos"
      ],
      "metadata": {
        "id": "NxsDPc14N6gP"
      }
    },
    {
      "cell_type": "code",
      "source": [
        "# 1. SEPARAÇÃO DOS GRUPOS\n",
        "notas_baixa_renda = df2[df2['CLASSE_RENDA'] == 'Baixa Renda']['NU_NOTA_REDACAO'].dropna()\n",
        "notas_alta_renda = df2[df2['CLASSE_RENDA'] == 'Alta Renda']['NU_NOTA_REDACAO'].dropna()\n",
        "\n",
        "print(f\"População Baixa Renda: {notas_baixa_renda.shape[0]} participantes\")\n",
        "print(f\"População Alta Renda: {notas_alta_renda.shape[0]} participantes\")\n",
        "print(\"-\" * 30)\n",
        "\n",
        "# 2. TESTE DE MANN-WHITNEY U\n",
        "stat, p_valor = mannwhitneyu(notas_baixa_renda, notas_alta_renda)\n",
        "alpha = 0.05\n",
        "\n",
        "print(f\"Estatística do teste: {stat:.3f}\")\n",
        "print(f\"P-valor: {p_valor}\")\n",
        "\n",
        "if p_valor <= alpha:\n",
        "  print(\"\\nConclusão: Rejeitamos H0. Há uma diferença estatisticamente significativa.\")\n",
        "else:\n",
        "  print(\"\\nConclusão: Falhamos em rejeitar H0.\")\n",
        "\n",
        "# 3. VISUALIZAÇÃO\n",
        "plt.figure(figsize=(8, 6))\n",
        "sns.boxplot(x='CLASSE_RENDA', y='NU_NOTA_REDACAO', data=df2.dropna(subset=['NU_NOTA_REDACAO']))\n",
        "plt.title('Distribuição da Nota de Redação por Classe de Renda', fontsize=14)\n",
        "plt.ylabel('Nota da Redação')\n",
        "plt.xlabel('Classe de Renda')\n",
        "plt.show()"
      ],
      "metadata": {
        "colab": {
          "base_uri": "https://localhost:8080/",
          "height": 687
        },
        "id": "20xcONu1N33t",
        "outputId": "a564a938-a600-4990-efa2-461d0835c29b"
      },
      "execution_count": null,
      "outputs": [
        {
          "output_type": "stream",
          "name": "stdout",
          "text": [
            "População Baixa Renda: 2009408 participantes\n",
            "População Alta Renda: 1649724 participantes\n",
            "------------------------------\n",
            "Estatística do teste: 1144160869638.000\n",
            "P-valor: 0.0\n",
            "\n",
            "Conclusão: Rejeitamos H0. Há uma diferença estatisticamente significativa.\n"
          ]
        },
        {
          "output_type": "display_data",
          "data": {
            "text/plain": [
              "<Figure size 800x600 with 1 Axes>"
            ],
            "image/png": "[encoded data removed]"
          },
          "metadata": {}
        }
      ]
    },
    {
      "cell_type": "markdown",
      "source": [
        "#### Análise Visual do Gráfico (Renda vs. Redação)\n",
        "\n",
        "O boxplot acima ilustra a distribuição das notas de redação para os grupos de \"Baixa Renda\" e \"Alta Renda\". Visualmente, notamos que:\n",
        "- A **mediana** (a linha central do retângulo) do grupo de \"Alta Renda\" é visivelmente superior à do grupo de \"Baixa Renda\".\n",
        "- A **amplitude interquartil** (o tamanho da caixa, representando 50% dos dados centrais) do grupo de \"Alta Renda\" também se posiciona em uma faixa de notas mais elevada.\n",
        "- Embora haja sobreposição, a distribuição geral do grupo de \"Alta Renda\" está deslocada para notas maiores.\n",
        "\n",
        "Esta análise visual sugere que existe uma diferença prática entre os grupos, o que reforça o resultado do teste de hipótese."
      ],
      "metadata": {
        "id": "0Sx7i2TbmIN2"
      }
    },
    {
      "cell_type": "markdown",
      "source": [
        "## Raça X Nota Média\n",
        "\n",
        "Utilizaremos o Teste de Kruskal-Wallis, uma vez que, estamos comparando mais de dois grupos independentes e os dados não são normais"
      ],
      "metadata": {
        "id": "_yq6O8S34rYy"
      }
    },
    {
      "cell_type": "markdown",
      "source": [
        "H0: A distribuição das notas médias é a mesma para todos os grupos de raça/cor\n",
        "\n",
        "H1: Pelo menos um dos grupos possui uma distribuição de notas médias diferente dos demais"
      ],
      "metadata": {
        "id": "KzjhrEbIPWjf"
      }
    },
    {
      "cell_type": "code",
      "source": [
        "# 1. SEPARAÇÃO DOS GRUPOS\n",
        "mapa_raca = { 0: 'Não declarado', 1: 'Branca', 2: 'Preta', 3: 'Parda', 4: 'Amarela', 5: 'Indígena' }\n",
        "grupos_raca = []\n",
        "labels_raca = []\n",
        "for raca_code, raca_nome in mapa_raca.items():\n",
        "    notas_grupo = df2[df2['TP_COR_RACA'] == raca_code]['NOTA_MEDIA'].dropna()\n",
        "    if not notas_grupo.empty:\n",
        "        grupos_raca.append(notas_grupo)\n",
        "        labels_raca.append(raca_nome)\n",
        "\n",
        "print(\"População por grupo de Raça/Cor:\")\n",
        "for i in range(len(labels_raca)):\n",
        "    print(f\"- {labels_raca[i]}: {len(grupos_raca[i])} participantes\")\n",
        "print(\"-\" * 30)\n",
        "\n",
        "# 2. TESTE DE KRUSKAL-WALLIS\n",
        "stat, p_valor = kruskal(*grupos_raca)\n",
        "alpha = 0.05\n",
        "\n",
        "print(f\"Estatística do teste: {stat:.3f}\")\n",
        "print(f\"P-valor: {p_valor}\")\n",
        "\n",
        "if p_valor <= alpha:\n",
        "  print(\"\\nConclusão: Rejeitamos H0. Existe uma diferença estatisticamente significativa.\")\n",
        "else:\n",
        "  print(\"\\nConclusão: Falhamos em rejeitar H0.\")\n",
        "\n",
        "# 3. VISUALIZAÇÃO\n",
        "df2['RACA_NOME'] = df2['TP_COR_RACA'].map(mapa_raca)\n",
        "plt.figure(figsize=(12, 7))\n",
        "sns.boxplot(x='RACA_NOME', y='NOTA_MEDIA', data=df2.dropna(subset=['NOTA_MEDIA']), order=labels_raca)\n",
        "plt.title('Distribuição da Nota Média por Raça/Cor', fontsize=14)\n",
        "plt.ylabel('Nota Média')\n",
        "plt.xlabel('Raça/Cor')\n",
        "plt.xticks(rotation=45)\n",
        "plt.show()"
      ],
      "metadata": {
        "id": "UxKQ--6b4vc6",
        "colab": {
          "base_uri": "https://localhost:8080/",
          "height": 1000
        },
        "outputId": "40a9379e-4a29-4078-e458-8a10b5c046e5"
      },
      "execution_count": null,
      "outputs": [
        {
          "output_type": "stream",
          "name": "stdout",
          "text": [
            "População por grupo de Raça/Cor:\n",
            "- Não declarado: 71929 participantes\n",
            "- Branca: 1286483 participantes\n",
            "- Preta: 478919 participantes\n",
            "- Parda: 1725423 participantes\n",
            "- Amarela: 82167 participantes\n",
            "- Indígena: 22495 participantes\n",
            "------------------------------\n",
            "Estatística do teste: 159441.300\n",
            "P-valor: 0.0\n",
            "\n",
            "Conclusão: Rejeitamos H0. Existe uma diferença estatisticamente significativa.\n"
          ]
        },
        {
          "output_type": "stream",
          "name": "stderr",
          "text": [
            "/tmp/ipython-input-45-1619174147.py:29: SettingWithCopyWarning: \n",
            "A value is trying to be set on a copy of a slice from a DataFrame.\n",
            "Try using .loc[row_indexer,col_indexer] = value instead\n",
            "\n",
            "See the caveats in the documentation: https://pandas.pydata.org/pandas-docs/stable/user_guide/indexing.html#returning-a-view-versus-a-copy\n",
            "  df2['RACA_NOME'] = df2['TP_COR_RACA'].map(mapa_raca)\n"
          ]
        },
        {
          "output_type": "display_data",
          "data": {
            "text/plain": [
              "<Figure size 1200x700 with 1 Axes>"
            ],
            "image/png": "[encoded data removed]"
          },
          "metadata": {}
        }
      ]
    },
    {
      "cell_type": "markdown",
      "source": [
        "#### Análise Visual do Gráfico (Raça/Cor vs. Média)\n",
        "\n",
        "A análise visual dos boxplots para os diferentes grupos de raça/cor revela diferenças nas distribuições das notas médias (ainda que não tão significativas quanto a distribuição das notas de redação para os grupos de \"Baixa Renda\" e \"Alta Renda\")\n",
        "\n",
        "A distância visual entre as medianas, especialmente entre os grupos de maior e menor desempenho, sugere que as diferenças não são apenas estatísticas, mas também práticas e relevantes."
      ],
      "metadata": {
        "id": "nPjjrOkjmMgi"
      }
    },
    {
      "cell_type": "markdown",
      "source": [
        "## Sexo X Nota Média\n",
        "Utilizaremos o Teste de Mann-Whitney U (alternativa não paramétrica ao Teste t de Student) com significância de 5% e uma fração de ~10% da população para a análise"
      ],
      "metadata": {
        "id": "9WJlnV57S9yA"
      }
    },
    {
      "cell_type": "markdown",
      "source": [
        "H0: Não há diferença significativa na distribuição dos dados entre a amostra masculina e feminina\n",
        "\n",
        "H1: Há uma diferença significativa na distribuição dos dados entre a amostra masculina e feminina"
      ],
      "metadata": {
        "id": "H0O5wzSIdS3w"
      }
    },
    {
      "cell_type": "code",
      "source": [
        "# 1. PREPARAÇÃO E SEPARAÇÃO DOS GRUPOS\n",
        "# Usando o dataframe original 'df' e removendo nulos para garantir que todos têm notas\n",
        "grupo_masculino = df2[df2[\"TP_SEXO\"] == 'M'].dropna(subset=['NU_NOTA_CH', 'NU_NOTA_CN', 'NU_NOTA_LC', 'NU_NOTA_REDACAO', 'NU_NOTA_MT'])\n",
        "grupo_feminino = df2[df2[\"TP_SEXO\"] == 'F'].dropna(subset=['NU_NOTA_CH', 'NU_NOTA_CN', 'NU_NOTA_LC', 'NU_NOTA_REDACAO', 'NU_NOTA_MT'])\n",
        "\n",
        "print(f\"População Masculina: {grupo_masculino.shape[0]} participantes\")\n",
        "print(f\"População Feminina: {grupo_feminino.shape[0]} participantes\")\n",
        "print(\"-\" * 30)\n",
        "\n",
        "# 2. TESTE DE MANN-WHITNEY U\n",
        "notas_m = grupo_masculino['NOTA_MEDIA']\n",
        "notas_f = grupo_feminino['NOTA_MEDIA']\n",
        "stat, p_valor = mannwhitneyu(notas_m, notas_f)\n",
        "alpha = 0.05\n",
        "\n",
        "print(f\"Estatística do teste: {stat:.3f}\")\n",
        "print(f\"P-valor: {p_valor}\")\n",
        "\n",
        "if p_valor <= alpha:\n",
        "  print(\"\\nConclusão: Rejeitamos H0. Há uma diferença estatisticamente significativa.\")\n",
        "else:\n",
        "  print(\"\\nConclusão: Falhamos em rejeitar H0.\")\n",
        "\n",
        "# 3. VISUALIZAÇÃO\n",
        "# Junta os dois dataframes para o gráfico\n",
        "df_sexo_completo = pd.concat([grupo_masculino, grupo_feminino])\n",
        "plt.figure(figsize=(8, 6))\n",
        "sns.boxplot(x='TP_SEXO', y='NOTA_MEDIA', data=df_sexo_completo)\n",
        "plt.title('Distribuição da Nota Média por Sexo', fontsize=14)\n",
        "plt.xlabel('Sexo')\n",
        "plt.ylabel('Nota Média')\n",
        "plt.xticks([0, 1], ['Masculino', 'Feminino'])\n",
        "plt.show()"
      ],
      "metadata": {
        "colab": {
          "base_uri": "https://localhost:8080/",
          "height": 688
        },
        "id": "tPHpjQHIS9Tg",
        "outputId": "a137a4a9-af12-4df1-b012-d4456a296152"
      },
      "execution_count": null,
      "outputs": [
        {
          "output_type": "stream",
          "name": "stdout",
          "text": [
            "População Masculina: 1423388 participantes\n",
            "População Feminina: 2011370 participantes\n",
            "------------------------------\n",
            "Estatística do teste: 1566111124444.500\n",
            "P-valor: 0.0\n",
            "\n",
            "Conclusão: Rejeitamos H0. Há uma diferença estatisticamente significativa.\n"
          ]
        },
        {
          "output_type": "display_data",
          "data": {
            "text/plain": [
              "<Figure size 800x600 with 1 Axes>"
            ],
            "image/png": "[encoded data removed]"
          },
          "metadata": {}
        }
      ]
    },
    {
      "cell_type": "markdown",
      "source": [
        "#### Análise Visual do Gráfico (Sexo vs. Média)\n",
        "\n",
        "Ao analisar o boxplot que compara as notas médias entre os sexos, observamos um ponto interessante:\n",
        "- As **medianas** de ambos os grupos (\"Masculino\" e \"Feminino\") são **visualmente muito próximas**, quase idênticas.\n",
        "- A **amplitude dos dados** e os quartis também mostram uma sobreposição muito grande entre as duas distribuições.\n",
        "\n",
        "Essa análise visual é um contraponto importante ao teste de hipótese. Enquanto o teste estatístico, devido ao grande volume de dados, detectou uma diferença (rejeitou H₀), o gráfico mostra que essa diferença é **muito pequena na prática**."
      ],
      "metadata": {
        "id": "8Z84IzCkmQst"
      }
    },
    {
      "cell_type": "markdown",
      "source": [
        "## Discussão e Conclusão Geral\n",
        "\n",
        "Este estudo se propôs a investigar a relação entre fatores socioeconômicos/demográficos e o desempenho no ENEM 2018. Utilizando o conjunto de dados completo de não-treineiros, os testes de hipótese não paramétricos (Mann-Whitney U e Kruskal-Wallis) rejeitaram a hipótese nula em todas as análises, indicando a existência de diferenças **estatisticamente significativas** entre os grupos de renda, raça/cor e sexo."
      ],
      "metadata": {
        "id": "PpJ21gI_nW1k"
      }
    },
    {
      "cell_type": "markdown",
      "source": [
        "## Significância Estatística vs. Prática\n",
        "\n",
        "Um ponto fundamental, levantado durante a análise, é a distinção entre significância estatística e significância prática, especialmente em datasets com milhões de registros como o do ENEM. Com tanto poder estatístico, os testes são capazes de detectar diferenças mínimas, que podem não ser relevantes na prática."
      ],
      "metadata": {
        "id": "Dh8MdAzuVCN2"
      }
    },
    {
      "cell_type": "markdown",
      "source": [
        "# Conclusão Final\n",
        "\n",
        "O objetivo inicial do estudo foi plenamente alcançado. Foi possível confirmar, com rigor estatístico, que fatores como renda e raça/cor estão fortemente associados ao desempenho dos estudantes no ENEM, evidenciando desigualdades estruturais. Além disso, a análise proporcionou uma importante lição sobre a interpretação de resultados em grandes volumes de dados, demonstrando que uma análise crítica e visual é essencial para contextualizar os achados dos testes de hipótese e entender a relevância prática das diferenças encontradas."
      ],
      "metadata": {
        "id": "z9GaTza2UmMX"
      }
    }
  ],
  "metadata": {
    "colab": {
      "provenance": [],
      "gpuType": "V28",
      "collapsed_sections": [
        "ejmU0Jte0yvQ",
        "7aix59LtaQIP",
        "G0gRCRSnWZtt",
        "W13jFZ5Aaics",
        "-Ryvrke34iI7",
        "_yq6O8S34rYy",
        "9WJlnV57S9yA"
      ],
      "include_colab_link": true
    },
    "kernelspec": {
      "display_name": "Python 3",
      "name": "python3"
    },
    "accelerator": "TPU"
  },
  "nbformat": 4,
  "nbformat_minor": 0
}